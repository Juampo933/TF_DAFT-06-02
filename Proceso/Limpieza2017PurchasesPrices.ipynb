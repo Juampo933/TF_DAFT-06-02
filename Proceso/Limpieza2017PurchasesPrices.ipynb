{
 "cells": [
  {
   "cell_type": "code",
   "execution_count": 1,
   "metadata": {},
   "outputs": [],
   "source": [
    "#Carga de Librerias\n",
    "import pandas as pd\n",
    "import numpy as np \n",
    "import matplotlib.pyplot as plt \n",
    "import seaborn as sns\n",
    "import os"
   ]
  },
  {
   "cell_type": "code",
   "execution_count": 2,
   "metadata": {},
   "outputs": [],
   "source": [
    "pur_prices_2017 = pd.read_csv(\"2017PurchasePricesDec.csv\")"
   ]
  },
  {
   "cell_type": "code",
   "execution_count": 12,
   "metadata": {},
   "outputs": [
    {
     "name": "stdout",
     "output_type": "stream",
     "text": [
      "<class 'pandas.core.frame.DataFrame'>\n",
      "Index: 12256 entries, 0 to 12260\n",
      "Data columns (total 10 columns):\n",
      " #   Column          Non-Null Count  Dtype  \n",
      "---  ------          --------------  -----  \n",
      " 0   Brand           12256 non-null  int64  \n",
      " 1   Description     12256 non-null  object \n",
      " 2   Price           12256 non-null  float64\n",
      " 3   Size            12256 non-null  object \n",
      " 4   Volume          12256 non-null  object \n",
      " 5   Classification  12256 non-null  int64  \n",
      " 6   PurchasePrice   12256 non-null  float64\n",
      " 7   VendorNumber    12256 non-null  int64  \n",
      " 8   VendorName      12256 non-null  object \n",
      " 9   Size_ml         12256 non-null  float64\n",
      "dtypes: float64(3), int64(3), object(4)\n",
      "memory usage: 1.0+ MB\n"
     ]
    }
   ],
   "source": [
    "pur_prices_2017.info()"
   ]
  },
  {
   "cell_type": "code",
   "execution_count": 13,
   "metadata": {},
   "outputs": [
    {
     "name": "stdout",
     "output_type": "stream",
     "text": [
      "Brand\n",
      "count    12256.000000\n",
      "mean     17986.885362\n",
      "std      12512.055720\n",
      "min         58.000000\n",
      "25%       5991.500000\n",
      "50%      18793.500000\n",
      "75%      25117.250000\n",
      "max      90631.000000\n",
      "Name: Brand, dtype: float64\n",
      "--------------------------------------------------------------\n",
      "Description\n",
      "count                    12256\n",
      "unique                   11110\n",
      "top       Jagermeister Liqueur\n",
      "freq                         7\n",
      "Name: Description, dtype: object\n",
      "--------------------------------------------------------------\n",
      "Price\n",
      "count    12256.000000\n",
      "mean        38.651888\n",
      "std        206.192338\n",
      "min          0.000000\n",
      "25%         10.990000\n",
      "50%         15.990000\n",
      "75%         29.990000\n",
      "max      13999.900000\n",
      "Name: Price, dtype: float64\n",
      "--------------------------------------------------------------\n",
      "Size\n",
      "count     12256\n",
      "unique       55\n",
      "top       750mL\n",
      "freq       9823\n",
      "Name: Size, dtype: object\n",
      "--------------------------------------------------------------\n",
      "Volume\n",
      "count     12256\n",
      "unique       32\n",
      "top         750\n",
      "freq       9840\n",
      "Name: Volume, dtype: object\n",
      "--------------------------------------------------------------\n",
      "Classification\n",
      "count    12256.000000\n",
      "mean         1.709204\n",
      "std          0.454148\n",
      "min          1.000000\n",
      "25%          1.000000\n",
      "50%          2.000000\n",
      "75%          2.000000\n",
      "max          2.000000\n",
      "Name: Classification, dtype: float64\n",
      "--------------------------------------------------------------\n",
      "PurchasePrice\n",
      "count    12256.000000\n",
      "mean        26.495168\n",
      "std        156.214390\n",
      "min          0.000000\n",
      "25%          6.890000\n",
      "50%         10.645000\n",
      "75%         20.130000\n",
      "max      11111.030000\n",
      "Name: PurchasePrice, dtype: float64\n",
      "--------------------------------------------------------------\n",
      "VendorNumber\n",
      "count     12256.000000\n",
      "mean      10817.892624\n",
      "std       19010.924623\n",
      "min           2.000000\n",
      "25%        3960.000000\n",
      "50%        7153.000000\n",
      "75%        9552.000000\n",
      "max      173357.000000\n",
      "Name: VendorNumber, dtype: float64\n",
      "--------------------------------------------------------------\n",
      "VendorName\n",
      "count                     12256\n",
      "unique                      134\n",
      "top       MARTIGNETTI COMPANIES\n",
      "freq                       1629\n",
      "Name: VendorName, dtype: object\n",
      "--------------------------------------------------------------\n",
      "Size_ml\n",
      "count    12256.000000\n",
      "mean       847.872430\n",
      "std        679.776576\n",
      "min         50.000000\n",
      "25%        750.000000\n",
      "50%        750.000000\n",
      "75%        750.000000\n",
      "max      20000.000000\n",
      "Name: Size_ml, dtype: float64\n",
      "--------------------------------------------------------------\n"
     ]
    }
   ],
   "source": [
    "#Estadisticas de cada columna\n",
    "for i in pur_prices_2017.columns:\n",
    "    print(i)\n",
    "    #Esto imprime las estadísticas descriptivas (como count, mean, std, min, 25%, 50%, 75%, max) para esa columna.\n",
    "    print(pur_prices_2017[i].describe())\n",
    "    print('--------------------------------------------------------------')"
   ]
  },
  {
   "cell_type": "code",
   "execution_count": 17,
   "metadata": {},
   "outputs": [
    {
     "name": "stdout",
     "output_type": "stream",
     "text": [
      "[  750  1000  1750    50   375   100   200   300   250  1500  3000  5000\n",
      "  4000   187   150   500   720   650   330 18000   180  6000    20 20000\n",
      "   162   400  1100   600 19500   560  3750  9000]\n",
      "--------------------------------\n",
      "['750mL' '1000mL' '1750mL' '50mL' '375mL' '100mL 4 Pk' '50mL 5 Pk' '100mL'\n",
      " '200mL' '50mL 4 Pk' '50mL 3 Pk' '300mL' '200mL 4 Pk' '750mL 2 Pk'\n",
      " '250mL 4 Pk' '1500mL' '3000mL' '5000mL' '4000mL' '187mL 4 Pk' '150mL'\n",
      " '187mL' '500mL' '720mL' '650mL' '200mL 3 Pk' '187mL 3 Pk' '330mL' '250mL'\n",
      " '750mL + 3/' '18000mL' '180mL' '750mL + 4/' '6000mL' '1000mL 2 Pk'\n",
      " '750mL 12 P' '750mL 6 Pk' '20mL 5 Pk' '375mL 2 Pk' '20000mL' '50mL 12 Pk'\n",
      " '750mL 3 Pk' '375mL 3 Pk' '750mL + 1/' '200mL 5 Pk' '162.5mL' '400mL'\n",
      " '1100ml' '600mL' '19500mL' '560mL' '3750mL' '750mL  3' '1500ml' '9000mL']\n"
     ]
    }
   ],
   "source": [
    "print(pur_prices_2017['Volume'].unique())\n",
    "print('--------------------------------')\n",
    "print(pur_prices_2017['Size'].unique())"
   ]
  },
  {
   "cell_type": "code",
   "execution_count": 9,
   "metadata": {},
   "outputs": [
    {
     "name": "stdout",
     "output_type": "stream",
     "text": [
      "     Size  Size_ml\n",
      "0   750mL    750.0\n",
      "1   750mL    750.0\n",
      "2   750mL    750.0\n",
      "3   750mL    750.0\n",
      "4   750mL    750.0\n",
      "5   750mL    750.0\n",
      "6   750mL    750.0\n",
      "7  1000mL   1000.0\n",
      "8  1000mL   1000.0\n",
      "9   750mL    750.0\n"
     ]
    }
   ],
   "source": [
    "import re\n",
    "\n",
    "def convertir_a_ml(size):\n",
    "    # Expresión regular para extraer el número principal, unidad y posibles cantidades de paquetes\n",
    "    match = re.match(r\"(\\d+(\\.\\d+)?)\\s*(mL|L|liter|oz)?(?:\\s*(\\d+)?\\s*Pk)?\", str(size), re.IGNORECASE)\n",
    "    \n",
    "    if match:\n",
    "        valor = float(match.group(1))  # Valor numérico principal\n",
    "        unidad = match.group(3).lower() if match.group(3) else ''  # Unidad de medida\n",
    "        cantidad_pk = int(match.group(4)) if match.group(4) else 1  # Cantidad en el paquete, por defecto 1\n",
    "        \n",
    "        # Convertir a mililitros según la unidad\n",
    "        if unidad in ['l', 'liter']:\n",
    "            return valor * 1000 * cantidad_pk  # Convertir litros a mililitros y multiplicar por cantidad\n",
    "        elif unidad == 'oz':\n",
    "            return valor * 29.5735 * cantidad_pk  # Convertir onzas a mililitros y multiplicar por cantidad\n",
    "        elif unidad == 'ml':\n",
    "            return valor * cantidad_pk  # Ya está en mililitros, multiplicar por cantidad\n",
    "    return None\n",
    "\n",
    "# Aplicar la función a la columna 'Size' para crear la columna 'Size_ml' en mL\n",
    "pur_prices_2017['Size_ml'] = pur_prices_2017['Size'].apply(convertir_a_ml)\n",
    "\n",
    "# Verificar el resultado\n",
    "print(pur_prices_2017[['Size', 'Size_ml']].head(10))"
   ]
  },
  {
   "cell_type": "code",
   "execution_count": 10,
   "metadata": {},
   "outputs": [
    {
     "name": "stdout",
     "output_type": "stream",
     "text": [
      "[  750.   1000.   1750.     50.    375.    400.    250.    100.    200.\n",
      "   150.    300.    800.   1500.   3000.   5000.   4000.    748.    187.\n",
      "   500.    720.    650.    600.    561.    330.  18000.    180.   6000.\n",
      "  2000.   4500.  20000.   2250.   1125.    162.5  1100.  19500.    560.\n",
      "  3750.   9000. ]\n"
     ]
    }
   ],
   "source": [
    "# Eliminar filas donde 'Size_ml' tiene valores NaN\n",
    "pur_prices_2017 = pur_prices_2017.dropna(subset=['Size_ml'])\n",
    "\n",
    "# Verificar el resultado\n",
    "print(pur_prices_2017['Size_ml'].unique())"
   ]
  },
  {
   "cell_type": "code",
   "execution_count": 11,
   "metadata": {},
   "outputs": [
    {
     "name": "stdout",
     "output_type": "stream",
     "text": [
      "['750' '1000' '1750' '50' '375' '100' '200' '300' '250' '1500' '3000'\n",
      " '5000' '4000' '187' '150' '500' '720' '650' '330' '18000' '180' '6000'\n",
      " '20' '20000' '162.5' '400' '1100' '600' '19500' '560' '3750' '9000']\n"
     ]
    },
    {
     "name": "stderr",
     "output_type": "stream",
     "text": [
      "C:\\Users\\Admin\\AppData\\Local\\Temp\\ipykernel_6980\\1884122741.py:2: FutureWarning: A value is trying to be set on a copy of a DataFrame or Series through chained assignment using an inplace method.\n",
      "The behavior will change in pandas 3.0. This inplace method will never work because the intermediate object on which we are setting values always behaves as a copy.\n",
      "\n",
      "For example, when doing 'df[col].method(value, inplace=True)', try using 'df.method({col: value}, inplace=True)' or df[col] = df[col].method(value) instead, to perform the operation inplace on the original object.\n",
      "\n",
      "\n",
      "  pur_prices_2017['Volume'].replace(['Unknown', None], np.nan, inplace=True)\n"
     ]
    }
   ],
   "source": [
    "\n",
    "# Reemplaza 'Unknown' y None/NaN por NaN\n",
    "pur_prices_2017['Volume'].replace(['Unknown', None], np.nan, inplace=True)\n",
    "print(pur_prices_2017['Volume'].unique())\n"
   ]
  },
  {
   "cell_type": "code",
   "execution_count": 14,
   "metadata": {},
   "outputs": [
    {
     "name": "stdout",
     "output_type": "stream",
     "text": [
      "count    12256.000000\n",
      "mean       842.921467\n",
      "std        679.529628\n",
      "min         20.000000\n",
      "25%        750.000000\n",
      "50%        750.000000\n",
      "75%        750.000000\n",
      "max      20000.000000\n",
      "Name: Volume, dtype: float64\n"
     ]
    }
   ],
   "source": [
    "# Convierte a numérico, ignorando errores (convertirá los no numéricos a NaN)\n",
    "pur_prices_2017['Volume'] = pd.to_numeric(pur_prices_2017['Volume'], errors='coerce')\n",
    "\n",
    "print(pur_prices_2017['Volume'].describe())"
   ]
  },
  {
   "cell_type": "code",
   "execution_count": 16,
   "metadata": {},
   "outputs": [
    {
     "name": "stdout",
     "output_type": "stream",
     "text": [
      "count    12256.000000\n",
      "mean       842.921426\n",
      "std        679.529669\n",
      "min         20.000000\n",
      "25%        750.000000\n",
      "50%        750.000000\n",
      "75%        750.000000\n",
      "max      20000.000000\n",
      "Name: Volume, dtype: float64\n"
     ]
    }
   ],
   "source": [
    "# Elimina los decimales convirtiendo a entero\n",
    "pur_prices_2017['Volume'] = pur_prices_2017['Volume'].astype(int)\n",
    "\n",
    "print(pur_prices_2017['Volume'].info())"
   ]
  },
  {
   "cell_type": "code",
   "execution_count": 19,
   "metadata": {},
   "outputs": [
    {
     "name": "stdout",
     "output_type": "stream",
     "text": [
      "0         750\n",
      "1         750\n",
      "2         750\n",
      "3         750\n",
      "4         750\n",
      "         ... \n",
      "12256     750\n",
      "12257     750\n",
      "12258     750\n",
      "12259    1500\n",
      "12260     750\n",
      "Name: Volume, Length: 12256, dtype: int64\n"
     ]
    }
   ],
   "source": []
  },
  {
   "cell_type": "code",
   "execution_count": 20,
   "metadata": {},
   "outputs": [],
   "source": [
    "#Borrar columna Size porque ya se creo Size_ml\n",
    "\n",
    "del pur_prices_2017['Size']"
   ]
  },
  {
   "cell_type": "code",
   "execution_count": 21,
   "metadata": {},
   "outputs": [
    {
     "name": "stdout",
     "output_type": "stream",
     "text": [
      "       Brand                   Description  Price  Volume  Classification  \\\n",
      "0         58   Gekkeikan Black & Gold Sake  12.99     750               1   \n",
      "1         62      Herradura Silver Tequila  36.99     750               1   \n",
      "2         63    Herradura Reposado Tequila  38.99     750               1   \n",
      "3         72          No. 3 London Dry Gin  34.99     750               1   \n",
      "4         75     Three Olives Tomato Vodka  14.99     750               1   \n",
      "...      ...                           ...    ...     ...             ...   \n",
      "12256  44917     Ferreira 10-Yr Tawny Port  24.99     750               2   \n",
      "12257  44944     Sanford Santa Rita Pnt Nr  22.99     750               2   \n",
      "12258  45016  Neal One Lane Bridg Cab Svgn  93.99     750               2   \n",
      "12259  46011       Folonari Pnt Nr Venezie  12.99    1500               2   \n",
      "12260  46964     Calera Viognier Mt Harlan  35.99     750               2   \n",
      "\n",
      "       PurchasePrice  VendorNumber                   VendorName  Size_ml  \n",
      "0               9.28          8320  SHAW ROSS INT L IMP LTD        750.0  \n",
      "1              28.67          1128  BROWN-FORMAN CORP              750.0  \n",
      "2              30.46          1128  BROWN-FORMAN CORP              750.0  \n",
      "3              26.11          9165  ULTRA BEVERAGE COMPANY LLP     750.0  \n",
      "4              10.94          7245  PROXIMO SPIRITS INC.           750.0  \n",
      "...              ...           ...                          ...      ...  \n",
      "12256          16.55         90024  VINILANDIA USA                 750.0  \n",
      "12257          14.93          4425        MARTIGNETTI COMPANIES    750.0  \n",
      "12258          61.43         10754  PERFECTA WINES                 750.0  \n",
      "12259           8.90          9744  FREDERICK WILDMAN & SONS      1500.0  \n",
      "12260          24.32         10754  PERFECTA WINES                 750.0  \n",
      "\n",
      "[12256 rows x 9 columns]\n"
     ]
    }
   ],
   "source": [
    "print(pur_prices_2017)"
   ]
  },
  {
   "cell_type": "code",
   "execution_count": 22,
   "metadata": {},
   "outputs": [],
   "source": [
    "pur_prices_2017.to_csv(\"2017_purchases_prices_dec.csv\")"
   ]
  }
 ],
 "metadata": {
  "kernelspec": {
   "display_name": "Python 3",
   "language": "python",
   "name": "python3"
  },
  "language_info": {
   "codemirror_mode": {
    "name": "ipython",
    "version": 3
   },
   "file_extension": ".py",
   "mimetype": "text/x-python",
   "name": "python",
   "nbconvert_exporter": "python",
   "pygments_lexer": "ipython3",
   "version": "3.12.6"
  }
 },
 "nbformat": 4,
 "nbformat_minor": 2
}
