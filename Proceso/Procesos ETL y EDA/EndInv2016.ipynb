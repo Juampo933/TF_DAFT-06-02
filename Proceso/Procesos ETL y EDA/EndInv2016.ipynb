{
 "cells": [
  {
   "cell_type": "markdown",
   "metadata": {},
   "source": [
    "# ETL Y EDA INVENTARIO FINAL 2016"
   ]
  },
  {
   "cell_type": "code",
   "execution_count": 19,
   "metadata": {},
   "outputs": [],
   "source": [
    "#LIBRERIAS\n",
    "import pandas as pd\n",
    "import numpy as np\n",
    "import matplotlib.pyplot as plt\n",
    "import seaborn as sns"
   ]
  },
  {
   "cell_type": "code",
   "execution_count": 20,
   "metadata": {},
   "outputs": [],
   "source": [
    "#Cargamos el archivo csv y nombramos dataset\n",
    "inv_final = pd.read_csv(\"EndInvFINAL12312016.csv\")"
   ]
  },
  {
   "cell_type": "code",
   "execution_count": 21,
   "metadata": {},
   "outputs": [
    {
     "name": "stdout",
     "output_type": "stream",
     "text": [
      "<class 'pandas.core.frame.DataFrame'>\n",
      "RangeIndex: 224489 entries, 0 to 224488\n",
      "Data columns (total 9 columns):\n",
      " #   Column       Non-Null Count   Dtype  \n",
      "---  ------       --------------   -----  \n",
      " 0   InventoryId  224489 non-null  object \n",
      " 1   Store        224489 non-null  int64  \n",
      " 2   City         223205 non-null  object \n",
      " 3   Brand        224489 non-null  int64  \n",
      " 4   Description  224489 non-null  object \n",
      " 5   Size         224489 non-null  object \n",
      " 6   onHand       224489 non-null  int64  \n",
      " 7   Price        224489 non-null  float64\n",
      " 8   endDate      224489 non-null  object \n",
      "dtypes: float64(1), int64(3), object(5)\n",
      "memory usage: 15.4+ MB\n"
     ]
    }
   ],
   "source": [
    "#Informacion el dataset\n",
    "inv_final.info()"
   ]
  },
  {
   "cell_type": "code",
   "execution_count": 22,
   "metadata": {},
   "outputs": [
    {
     "data": {
      "text/html": [
       "<div>\n",
       "<style scoped>\n",
       "    .dataframe tbody tr th:only-of-type {\n",
       "        vertical-align: middle;\n",
       "    }\n",
       "\n",
       "    .dataframe tbody tr th {\n",
       "        vertical-align: top;\n",
       "    }\n",
       "\n",
       "    .dataframe thead th {\n",
       "        text-align: right;\n",
       "    }\n",
       "</style>\n",
       "<table border=\"1\" class=\"dataframe\">\n",
       "  <thead>\n",
       "    <tr style=\"text-align: right;\">\n",
       "      <th></th>\n",
       "      <th>InventoryId</th>\n",
       "      <th>Store</th>\n",
       "      <th>City</th>\n",
       "      <th>Brand</th>\n",
       "      <th>Description</th>\n",
       "      <th>Size</th>\n",
       "      <th>onHand</th>\n",
       "      <th>Price</th>\n",
       "      <th>endDate</th>\n",
       "    </tr>\n",
       "  </thead>\n",
       "  <tbody>\n",
       "    <tr>\n",
       "      <th>0</th>\n",
       "      <td>1_HARDERSFIELD_58</td>\n",
       "      <td>1</td>\n",
       "      <td>HARDERSFIELD</td>\n",
       "      <td>58</td>\n",
       "      <td>Gekkeikan Black &amp; Gold Sake</td>\n",
       "      <td>750mL</td>\n",
       "      <td>11</td>\n",
       "      <td>12.99</td>\n",
       "      <td>2016-12-31</td>\n",
       "    </tr>\n",
       "    <tr>\n",
       "      <th>1</th>\n",
       "      <td>1_HARDERSFIELD_62</td>\n",
       "      <td>1</td>\n",
       "      <td>HARDERSFIELD</td>\n",
       "      <td>62</td>\n",
       "      <td>Herradura Silver Tequila</td>\n",
       "      <td>750mL</td>\n",
       "      <td>7</td>\n",
       "      <td>36.99</td>\n",
       "      <td>2016-12-31</td>\n",
       "    </tr>\n",
       "    <tr>\n",
       "      <th>2</th>\n",
       "      <td>1_HARDERSFIELD_63</td>\n",
       "      <td>1</td>\n",
       "      <td>HARDERSFIELD</td>\n",
       "      <td>63</td>\n",
       "      <td>Herradura Reposado Tequila</td>\n",
       "      <td>750mL</td>\n",
       "      <td>7</td>\n",
       "      <td>38.99</td>\n",
       "      <td>2016-12-31</td>\n",
       "    </tr>\n",
       "    <tr>\n",
       "      <th>3</th>\n",
       "      <td>1_HARDERSFIELD_72</td>\n",
       "      <td>1</td>\n",
       "      <td>HARDERSFIELD</td>\n",
       "      <td>72</td>\n",
       "      <td>No. 3 London Dry Gin</td>\n",
       "      <td>750mL</td>\n",
       "      <td>4</td>\n",
       "      <td>34.99</td>\n",
       "      <td>2016-12-31</td>\n",
       "    </tr>\n",
       "    <tr>\n",
       "      <th>4</th>\n",
       "      <td>1_HARDERSFIELD_75</td>\n",
       "      <td>1</td>\n",
       "      <td>HARDERSFIELD</td>\n",
       "      <td>75</td>\n",
       "      <td>Three Olives Tomato Vodka</td>\n",
       "      <td>750mL</td>\n",
       "      <td>7</td>\n",
       "      <td>14.99</td>\n",
       "      <td>2016-12-31</td>\n",
       "    </tr>\n",
       "  </tbody>\n",
       "</table>\n",
       "</div>"
      ],
      "text/plain": [
       "         InventoryId  Store          City  Brand                  Description  \\\n",
       "0  1_HARDERSFIELD_58      1  HARDERSFIELD     58  Gekkeikan Black & Gold Sake   \n",
       "1  1_HARDERSFIELD_62      1  HARDERSFIELD     62     Herradura Silver Tequila   \n",
       "2  1_HARDERSFIELD_63      1  HARDERSFIELD     63   Herradura Reposado Tequila   \n",
       "3  1_HARDERSFIELD_72      1  HARDERSFIELD     72         No. 3 London Dry Gin   \n",
       "4  1_HARDERSFIELD_75      1  HARDERSFIELD     75    Three Olives Tomato Vodka   \n",
       "\n",
       "    Size  onHand  Price     endDate  \n",
       "0  750mL      11  12.99  2016-12-31  \n",
       "1  750mL       7  36.99  2016-12-31  \n",
       "2  750mL       7  38.99  2016-12-31  \n",
       "3  750mL       4  34.99  2016-12-31  \n",
       "4  750mL       7  14.99  2016-12-31  "
      ]
     },
     "execution_count": 22,
     "metadata": {},
     "output_type": "execute_result"
    }
   ],
   "source": [
    "#Primeras filas\n",
    "inv_final.head()"
   ]
  },
  {
   "cell_type": "code",
   "execution_count": 23,
   "metadata": {},
   "outputs": [
    {
     "name": "stdout",
     "output_type": "stream",
     "text": [
      "InventoryId\n",
      "count                224489\n",
      "unique               224489\n",
      "top       81_PEMBROKE_90604\n",
      "freq                      1\n",
      "Name: InventoryId, dtype: object\n",
      "--------------------------------------------------------------\n",
      "Store\n",
      "count    224489.000000\n",
      "mean         43.505740\n",
      "std          23.326415\n",
      "min           1.000000\n",
      "25%          23.000000\n",
      "50%          44.000000\n",
      "75%          66.000000\n",
      "max          81.000000\n",
      "Name: Store, dtype: float64\n",
      "--------------------------------------------------------------\n",
      "City\n",
      "count        223205\n",
      "unique           67\n",
      "top       MOUNTMEND\n",
      "freq          18065\n",
      "Name: City, dtype: object\n",
      "--------------------------------------------------------------\n",
      "Brand\n",
      "count    224489.000000\n",
      "mean      14356.370513\n",
      "std       13118.467851\n",
      "min          58.000000\n",
      "25%        3798.000000\n",
      "50%        8259.000000\n",
      "75%       23965.000000\n",
      "max       90631.000000\n",
      "Name: Brand, dtype: float64\n",
      "--------------------------------------------------------------\n",
      "Description\n",
      "count                   224489\n",
      "unique                    8732\n",
      "top       Jagermeister Liqueur\n",
      "freq                       462\n",
      "Name: Description, dtype: object\n",
      "--------------------------------------------------------------\n",
      "Size\n",
      "count     224489\n",
      "unique        47\n",
      "top        750mL\n",
      "freq      158227\n",
      "Name: Size, dtype: object\n",
      "--------------------------------------------------------------\n",
      "onHand\n",
      "count    224489.000000\n",
      "mean         21.763988\n",
      "std          37.233576\n",
      "min           0.000000\n",
      "25%           7.000000\n",
      "50%          12.000000\n",
      "75%          22.000000\n",
      "max        3676.000000\n",
      "Name: onHand, dtype: float64\n",
      "--------------------------------------------------------------\n",
      "Price\n",
      "count    224489.000000\n",
      "mean         23.585583\n",
      "std          79.202775\n",
      "min           0.490000\n",
      "25%           9.990000\n",
      "50%          14.990000\n",
      "75%          23.490000\n",
      "max       13999.900000\n",
      "Name: Price, dtype: float64\n",
      "--------------------------------------------------------------\n",
      "endDate\n",
      "count         224489\n",
      "unique             1\n",
      "top       2016-12-31\n",
      "freq          224489\n",
      "Name: endDate, dtype: object\n",
      "--------------------------------------------------------------\n"
     ]
    }
   ],
   "source": [
    "#Estadisticas de cada columna\n",
    "for i in inv_final.columns:\n",
    "    print(i)\n",
    "    #Esto imprime las estadísticas descriptivas (como count, mean, std, min, 25%, 50%, 75%, max) para esa columna.\n",
    "    print(inv_final[i].describe())\n",
    "    print('--------------------------------------------------------------')"
   ]
  },
  {
   "cell_type": "code",
   "execution_count": 24,
   "metadata": {},
   "outputs": [
    {
     "name": "stdout",
     "output_type": "stream",
     "text": [
      "datetime64[ns]\n"
     ]
    }
   ],
   "source": [
    "# Convertimos la columna 'endDate' a tipo de dato datetime, usando el paramero errors=\"coerce\"\n",
    "inv_final['endDate'] = pd.to_datetime(inv_final['endDate'], errors='coerce')\n",
    "print (inv_final['endDate'].dtypes)\n"
   ]
  },
  {
   "cell_type": "code",
   "execution_count": 25,
   "metadata": {},
   "outputs": [
    {
     "data": {
      "text/html": [
       "<div>\n",
       "<style scoped>\n",
       "    .dataframe tbody tr th:only-of-type {\n",
       "        vertical-align: middle;\n",
       "    }\n",
       "\n",
       "    .dataframe tbody tr th {\n",
       "        vertical-align: top;\n",
       "    }\n",
       "\n",
       "    .dataframe thead th {\n",
       "        text-align: right;\n",
       "    }\n",
       "</style>\n",
       "<table border=\"1\" class=\"dataframe\">\n",
       "  <thead>\n",
       "    <tr style=\"text-align: right;\">\n",
       "      <th></th>\n",
       "      <th>count</th>\n",
       "      <th>mean</th>\n",
       "      <th>min</th>\n",
       "      <th>25%</th>\n",
       "      <th>50%</th>\n",
       "      <th>75%</th>\n",
       "      <th>max</th>\n",
       "      <th>std</th>\n",
       "    </tr>\n",
       "  </thead>\n",
       "  <tbody>\n",
       "    <tr>\n",
       "      <th>Store</th>\n",
       "      <td>224489.0</td>\n",
       "      <td>43.50574</td>\n",
       "      <td>1.0</td>\n",
       "      <td>23.0</td>\n",
       "      <td>44.0</td>\n",
       "      <td>66.0</td>\n",
       "      <td>81.0</td>\n",
       "      <td>23.326415</td>\n",
       "    </tr>\n",
       "    <tr>\n",
       "      <th>Brand</th>\n",
       "      <td>224489.0</td>\n",
       "      <td>14356.370513</td>\n",
       "      <td>58.0</td>\n",
       "      <td>3798.0</td>\n",
       "      <td>8259.0</td>\n",
       "      <td>23965.0</td>\n",
       "      <td>90631.0</td>\n",
       "      <td>13118.467851</td>\n",
       "    </tr>\n",
       "    <tr>\n",
       "      <th>onHand</th>\n",
       "      <td>224489.0</td>\n",
       "      <td>21.763988</td>\n",
       "      <td>0.0</td>\n",
       "      <td>7.0</td>\n",
       "      <td>12.0</td>\n",
       "      <td>22.0</td>\n",
       "      <td>3676.0</td>\n",
       "      <td>37.233576</td>\n",
       "    </tr>\n",
       "    <tr>\n",
       "      <th>Price</th>\n",
       "      <td>224489.0</td>\n",
       "      <td>23.585583</td>\n",
       "      <td>0.49</td>\n",
       "      <td>9.99</td>\n",
       "      <td>14.99</td>\n",
       "      <td>23.49</td>\n",
       "      <td>13999.9</td>\n",
       "      <td>79.202775</td>\n",
       "    </tr>\n",
       "    <tr>\n",
       "      <th>endDate</th>\n",
       "      <td>224489</td>\n",
       "      <td>2016-12-31 00:00:00</td>\n",
       "      <td>2016-12-31 00:00:00</td>\n",
       "      <td>2016-12-31 00:00:00</td>\n",
       "      <td>2016-12-31 00:00:00</td>\n",
       "      <td>2016-12-31 00:00:00</td>\n",
       "      <td>2016-12-31 00:00:00</td>\n",
       "      <td>NaN</td>\n",
       "    </tr>\n",
       "  </tbody>\n",
       "</table>\n",
       "</div>"
      ],
      "text/plain": [
       "            count                 mean                  min  \\\n",
       "Store    224489.0             43.50574                  1.0   \n",
       "Brand    224489.0         14356.370513                 58.0   \n",
       "onHand   224489.0            21.763988                  0.0   \n",
       "Price    224489.0            23.585583                 0.49   \n",
       "endDate    224489  2016-12-31 00:00:00  2016-12-31 00:00:00   \n",
       "\n",
       "                         25%                  50%                  75%  \\\n",
       "Store                   23.0                 44.0                 66.0   \n",
       "Brand                 3798.0               8259.0              23965.0   \n",
       "onHand                   7.0                 12.0                 22.0   \n",
       "Price                   9.99                14.99                23.49   \n",
       "endDate  2016-12-31 00:00:00  2016-12-31 00:00:00  2016-12-31 00:00:00   \n",
       "\n",
       "                         max           std  \n",
       "Store                   81.0     23.326415  \n",
       "Brand                90631.0  13118.467851  \n",
       "onHand                3676.0     37.233576  \n",
       "Price                13999.9     79.202775  \n",
       "endDate  2016-12-31 00:00:00           NaN  "
      ]
     },
     "execution_count": 25,
     "metadata": {},
     "output_type": "execute_result"
    }
   ],
   "source": [
    "# Estadísticas Descriptivas - Variables Cuantitativas\n",
    "\n",
    "inv_final.describe().T"
   ]
  },
  {
   "cell_type": "code",
   "execution_count": 26,
   "metadata": {},
   "outputs": [],
   "source": [
    "#Exploración de Valores Anómalos\n",
    "#onHand y Price verificar que estas columnas no tengan valores negativos, \n",
    "# ya que onHand debería ser positivo (o cero) y Price generalmente también.\n",
    "\n",
    "inv_final = inv_final[inv_final['onHand'] >= 0]\n",
    "inv_final = inv_final[inv_final['Price'] >= 0]"
   ]
  },
  {
   "cell_type": "code",
   "execution_count": 27,
   "metadata": {},
   "outputs": [
    {
     "name": "stdout",
     "output_type": "stream",
     "text": [
      "Cantidad de valores nulos por columna:\n",
      " InventoryId       0\n",
      "Store             0\n",
      "City           1284\n",
      "Brand             0\n",
      "Description       0\n",
      "Size              0\n",
      "onHand            0\n",
      "Price             0\n",
      "endDate           0\n",
      "dtype: int64 \n",
      "\n",
      "------------------------\n"
     ]
    }
   ],
   "source": [
    "# Verificamos la cantidad de valores nulos por campo\n",
    "\n",
    "print(\"Cantidad de valores nulos por columna:\\n\", inv_final.isnull().sum(), \"\\n\")\n",
    "print('------------------------')"
   ]
  },
  {
   "cell_type": "code",
   "execution_count": 28,
   "metadata": {},
   "outputs": [
    {
     "name": "stdout",
     "output_type": "stream",
     "text": [
      "         Size  Size_ml\n",
      "0       750mL    750.0\n",
      "1       750mL    750.0\n",
      "2       750mL    750.0\n",
      "3       750mL    750.0\n",
      "4       750mL    750.0\n",
      "5       750mL    750.0\n",
      "6       750mL    750.0\n",
      "7       Liter      NaN\n",
      "8       Liter      NaN\n",
      "9  750mL + 2/    750.0\n"
     ]
    }
   ],
   "source": [
    "#Como en los demas archivos se encuestra la misma convercion de la columna Size, creando Size_ml\n",
    "import re\n",
    "\n",
    "def convertir_a_ml(size):\n",
    "    # Expresión regular para extraer el número principal, unidad y posibles cantidades de paquetes\n",
    "    match = re.match(r\"(\\d+(\\.\\d+)?)\\s*(mL|L|liter|oz)?(?:\\s*(\\d+)?\\s*Pk)?\", str(size), re.IGNORECASE)\n",
    "    \n",
    "    if match:\n",
    "        valor = float(match.group(1))  # Valor numérico principal\n",
    "        unidad = match.group(3).lower() if match.group(3) else ''  # Unidad de medida\n",
    "        cantidad_pk = int(match.group(4)) if match.group(4) else 1  # Cantidad en el paquete, por defecto 1\n",
    "        \n",
    "        # Convertir a mililitros según la unidad\n",
    "        if unidad in ['l', 'liter']:\n",
    "            return valor * 1000 * cantidad_pk  # Convertir litros a mililitros y multiplicar por cantidad\n",
    "        elif unidad == 'oz':\n",
    "            return valor * 29.5735 * cantidad_pk  # Convertir onzas a mililitros y multiplicar por cantidad\n",
    "        elif unidad == 'ml':\n",
    "            return valor * cantidad_pk  # Ya está en mililitros, multiplicar por cantidad\n",
    "    return None\n",
    "\n",
    "# Aplicar la función a la columna 'Size' para crear la columna 'Size_ml' en mL\n",
    "inv_final['Size_ml'] = inv_final['Size'].apply(convertir_a_ml)\n",
    "\n",
    "# Verificar el resultado\n",
    "print(inv_final[['Size', 'Size_ml']].head(10))\n"
   ]
  },
  {
   "cell_type": "code",
   "execution_count": 29,
   "metadata": {},
   "outputs": [
    {
     "name": "stdout",
     "output_type": "stream",
     "text": [
      "[  750.      1750.        50.       375.       200.       600.\n",
      "   150.       400.       250.       100.       800.      1000.\n",
      "  1500.      5000.      4000.       748.      3000.       147.8675\n",
      "   561.       187.       500.      2250.       300.       330.\n",
      " 18000.       720.      1125.       180.      6000.       374.\n",
      "  4500.    ]\n"
     ]
    }
   ],
   "source": [
    "# Eliminar filas donde 'Size_ml' tiene valores NaN\n",
    "inv_final = inv_final.dropna(subset=['Size_ml'])\n",
    "\n",
    "# Verificar el resultado\n",
    "print(inv_final['Size_ml'].unique())\n"
   ]
  },
  {
   "cell_type": "code",
   "execution_count": 30,
   "metadata": {},
   "outputs": [],
   "source": [
    "#Borramos la columna Size\n",
    "\n",
    "del inv_final['Size']"
   ]
  },
  {
   "cell_type": "code",
   "execution_count": 31,
   "metadata": {},
   "outputs": [
    {
     "data": {
      "text/plain": [
       "Index(['InventoryId', 'Store', 'City', 'Brand', 'Description', 'onHand',\n",
       "       'Price', 'endDate', 'Size_ml'],\n",
       "      dtype='object')"
      ]
     },
     "execution_count": 31,
     "metadata": {},
     "output_type": "execute_result"
    }
   ],
   "source": [
    "inv_final.columns"
   ]
  },
  {
   "cell_type": "code",
   "execution_count": 32,
   "metadata": {},
   "outputs": [
    {
     "name": "stderr",
     "output_type": "stream",
     "text": [
      "C:\\Users\\Admin\\AppData\\Local\\Temp\\ipykernel_2068\\3349267895.py:4: FutureWarning: A value is trying to be set on a copy of a DataFrame or Series through chained assignment using an inplace method.\n",
      "The behavior will change in pandas 3.0. This inplace method will never work because the intermediate object on which we are setting values always behaves as a copy.\n",
      "\n",
      "For example, when doing 'df[col].method(value, inplace=True)', try using 'df.method({col: value}, inplace=True)' or df[col] = df[col].method(value) instead, to perform the operation inplace on the original object.\n",
      "\n",
      "\n",
      "  inv_final['City'].fillna('Not Specified', inplace = True)\n"
     ]
    }
   ],
   "source": [
    "# Encontramos que los nulos pertenecen a la misma tienda\n",
    "# Reemplazar valores nulos en la columna 'City' con un valor específico\n",
    "\n",
    "inv_final['City'].fillna('Not Specified', inplace = True)"
   ]
  },
  {
   "cell_type": "code",
   "execution_count": 33,
   "metadata": {},
   "outputs": [
    {
     "name": "stdout",
     "output_type": "stream",
     "text": [
      "Valores nulos en 'City' después de reemplazo: 0\n"
     ]
    }
   ],
   "source": [
    "# Verificar si aún quedan valores nulos\n",
    "\n",
    "print(\"Valores nulos en 'City' después de reemplazo:\", inv_final['City'].isnull().sum())"
   ]
  },
  {
   "cell_type": "code",
   "execution_count": 35,
   "metadata": {},
   "outputs": [
    {
     "name": "stdout",
     "output_type": "stream",
     "text": [
      "<class 'pandas.core.frame.DataFrame'>\n",
      "Index: 220667 entries, 0 to 224488\n",
      "Data columns (total 9 columns):\n",
      " #   Column       Non-Null Count   Dtype         \n",
      "---  ------       --------------   -----         \n",
      " 0   InventoryId  220667 non-null  object        \n",
      " 1   StoreID      220667 non-null  int64         \n",
      " 2   City         220667 non-null  object        \n",
      " 3   BrandID      220667 non-null  int64         \n",
      " 4   Description  220667 non-null  object        \n",
      " 5   OnHand       220667 non-null  int64         \n",
      " 6   Price        220667 non-null  float64       \n",
      " 7   EndDate      220667 non-null  datetime64[ns]\n",
      " 8   SizeMl       220667 non-null  float64       \n",
      "dtypes: datetime64[ns](1), float64(2), int64(3), object(3)\n",
      "memory usage: 16.8+ MB\n"
     ]
    }
   ],
   "source": [
    "#Renombramos, Guardamos el dataframe en tipo csv y listo para normalizar.\n",
    "inv_final = inv_final.rename(columns={\n",
    "    'InventoryID': 'InventoryeID',\n",
    "    'Store': 'StoreID',\n",
    "    'City': 'City',\n",
    "    'Brand': 'BrandID',\n",
    "    'Description': 'Description',\n",
    "    'onHand': 'OnHand',\n",
    "    'Price': 'Price',\n",
    "    'endDate': 'EndDate',\n",
    "    'Size_ml': 'SizeMl'\n",
    "    })\n",
    "inv_final.info()\n",
    "inv_final.to_csv (r\"C:\\Users\\Admin\\Desktop\\proyecto final\\Proceso\\CSV listos\\InventarioFinal.csv\")"
   ]
  }
 ],
 "metadata": {
  "kernelspec": {
   "display_name": "Python 3",
   "language": "python",
   "name": "python3"
  },
  "language_info": {
   "codemirror_mode": {
    "name": "ipython",
    "version": 3
   },
   "file_extension": ".py",
   "mimetype": "text/x-python",
   "name": "python",
   "nbconvert_exporter": "python",
   "pygments_lexer": "ipython3",
   "version": "3.12.6"
  }
 },
 "nbformat": 4,
 "nbformat_minor": 2
}
