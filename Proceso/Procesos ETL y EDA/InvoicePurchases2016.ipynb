{
 "cells": [
  {
   "cell_type": "markdown",
   "metadata": {},
   "source": [
    "# ETL Y EDA INVOICE PURCHASES 2016"
   ]
  },
  {
   "cell_type": "code",
   "execution_count": 1,
   "metadata": {},
   "outputs": [],
   "source": [
    "#Importamos las librerias\n",
    "import numpy as np\n",
    "import pandas as pd\n",
    "import matplotlib.pyplot as plt\n",
    "import seaborn as sns"
   ]
  },
  {
   "cell_type": "code",
   "execution_count": 2,
   "metadata": {},
   "outputs": [],
   "source": [
    "#Cargamos el archivo csv y nombramos dataset\n",
    "InvoicePurchases =pd.read_csv(\"InvoicePurchases12312016.csv\")\n"
   ]
  },
  {
   "cell_type": "code",
   "execution_count": 3,
   "metadata": {},
   "outputs": [
    {
     "name": "stdout",
     "output_type": "stream",
     "text": [
      "<class 'pandas.core.frame.DataFrame'>\n",
      "RangeIndex: 5543 entries, 0 to 5542\n",
      "Data columns (total 10 columns):\n",
      " #   Column        Non-Null Count  Dtype  \n",
      "---  ------        --------------  -----  \n",
      " 0   VendorNumber  5543 non-null   int64  \n",
      " 1   VendorName    5543 non-null   object \n",
      " 2   InvoiceDate   5543 non-null   object \n",
      " 3   PONumber      5543 non-null   int64  \n",
      " 4   PODate        5543 non-null   object \n",
      " 5   PayDate       5543 non-null   object \n",
      " 6   Quantity      5543 non-null   int64  \n",
      " 7   Dollars       5543 non-null   float64\n",
      " 8   Freight       5543 non-null   float64\n",
      " 9   Approval      374 non-null    object \n",
      "dtypes: float64(2), int64(3), object(5)\n",
      "memory usage: 433.2+ KB\n"
     ]
    }
   ],
   "source": [
    "#Informacion el dataset\n",
    "InvoicePurchases.info()"
   ]
  },
  {
   "cell_type": "code",
   "execution_count": 17,
   "metadata": {},
   "outputs": [
    {
     "data": {
      "text/html": [
       "<div>\n",
       "<style scoped>\n",
       "    .dataframe tbody tr th:only-of-type {\n",
       "        vertical-align: middle;\n",
       "    }\n",
       "\n",
       "    .dataframe tbody tr th {\n",
       "        vertical-align: top;\n",
       "    }\n",
       "\n",
       "    .dataframe thead th {\n",
       "        text-align: right;\n",
       "    }\n",
       "</style>\n",
       "<table border=\"1\" class=\"dataframe\">\n",
       "  <thead>\n",
       "    <tr style=\"text-align: right;\">\n",
       "      <th></th>\n",
       "      <th>VendorNumber</th>\n",
       "      <th>InvoiceDate</th>\n",
       "      <th>PONumber</th>\n",
       "      <th>PODate</th>\n",
       "      <th>PayDate</th>\n",
       "      <th>Quantity</th>\n",
       "      <th>Dollars</th>\n",
       "      <th>Freight</th>\n",
       "    </tr>\n",
       "  </thead>\n",
       "  <tbody>\n",
       "    <tr>\n",
       "      <th>0</th>\n",
       "      <td>105</td>\n",
       "      <td>2016-01-04</td>\n",
       "      <td>8124</td>\n",
       "      <td>2015-12-21</td>\n",
       "      <td>2016-02-16</td>\n",
       "      <td>6</td>\n",
       "      <td>214.26</td>\n",
       "      <td>3.47</td>\n",
       "    </tr>\n",
       "    <tr>\n",
       "      <th>1</th>\n",
       "      <td>4466</td>\n",
       "      <td>2016-01-07</td>\n",
       "      <td>8137</td>\n",
       "      <td>2015-12-22</td>\n",
       "      <td>2016-02-21</td>\n",
       "      <td>15</td>\n",
       "      <td>140.55</td>\n",
       "      <td>8.57</td>\n",
       "    </tr>\n",
       "    <tr>\n",
       "      <th>2</th>\n",
       "      <td>388</td>\n",
       "      <td>2016-01-09</td>\n",
       "      <td>8169</td>\n",
       "      <td>2015-12-24</td>\n",
       "      <td>2016-02-16</td>\n",
       "      <td>5</td>\n",
       "      <td>106.60</td>\n",
       "      <td>4.61</td>\n",
       "    </tr>\n",
       "    <tr>\n",
       "      <th>3</th>\n",
       "      <td>480</td>\n",
       "      <td>2016-01-12</td>\n",
       "      <td>8106</td>\n",
       "      <td>2015-12-20</td>\n",
       "      <td>2016-02-05</td>\n",
       "      <td>10100</td>\n",
       "      <td>137483.78</td>\n",
       "      <td>2935.20</td>\n",
       "    </tr>\n",
       "    <tr>\n",
       "      <th>4</th>\n",
       "      <td>516</td>\n",
       "      <td>2016-01-07</td>\n",
       "      <td>8170</td>\n",
       "      <td>2015-12-24</td>\n",
       "      <td>2016-02-12</td>\n",
       "      <td>1935</td>\n",
       "      <td>15527.25</td>\n",
       "      <td>429.20</td>\n",
       "    </tr>\n",
       "  </tbody>\n",
       "</table>\n",
       "</div>"
      ],
      "text/plain": [
       "   VendorNumber InvoiceDate  PONumber     PODate    PayDate  Quantity  \\\n",
       "0           105  2016-01-04      8124 2015-12-21 2016-02-16         6   \n",
       "1          4466  2016-01-07      8137 2015-12-22 2016-02-21        15   \n",
       "2           388  2016-01-09      8169 2015-12-24 2016-02-16         5   \n",
       "3           480  2016-01-12      8106 2015-12-20 2016-02-05     10100   \n",
       "4           516  2016-01-07      8170 2015-12-24 2016-02-12      1935   \n",
       "\n",
       "     Dollars  Freight  \n",
       "0     214.26     3.47  \n",
       "1     140.55     8.57  \n",
       "2     106.60     4.61  \n",
       "3  137483.78  2935.20  \n",
       "4   15527.25   429.20  "
      ]
     },
     "execution_count": 17,
     "metadata": {},
     "output_type": "execute_result"
    }
   ],
   "source": [
    "#Primeras filas\n",
    "InvoicePurchases.head()"
   ]
  },
  {
   "cell_type": "code",
   "execution_count": 6,
   "metadata": {},
   "outputs": [
    {
     "name": "stdout",
     "output_type": "stream",
     "text": [
      "VendorNumber       0\n",
      "VendorName         0\n",
      "InvoiceDate        0\n",
      "PONumber           0\n",
      "PODate             0\n",
      "PayDate            0\n",
      "Quantity           0\n",
      "Dollars            0\n",
      "Freight            0\n",
      "Approval        5169\n",
      "dtype: int64\n"
     ]
    }
   ],
   "source": [
    "#Verificamos la cantidad de datos nulos por columna\n",
    "print(InvoicePurchases.isnull().sum())"
   ]
  },
  {
   "cell_type": "code",
   "execution_count": 10,
   "metadata": {},
   "outputs": [],
   "source": [
    "# Cambiar el tipo de dato de las columnas de fecha \n",
    "\n",
    "InvoicePurchases['InvoiceDate']=pd.to_datetime(InvoicePurchases['InvoiceDate'])\n",
    "InvoicePurchases['PODate']=pd.to_datetime(InvoicePurchases['PODate'])\n",
    "InvoicePurchases['PayDate']=pd.to_datetime(InvoicePurchases['PayDate'])"
   ]
  },
  {
   "cell_type": "code",
   "execution_count": 7,
   "metadata": {},
   "outputs": [
    {
     "name": "stdout",
     "output_type": "stream",
     "text": [
      "Número de filas duplicadas en la tabla de factura_compras: 0\n"
     ]
    }
   ],
   "source": [
    "#Averiguamos si existen filas duplicadas\n",
    "filas_duplicadas = InvoicePurchases.duplicated()\n",
    "\n",
    "#Hacemos el recuento de las filas duplicadas\n",
    "contar_filas_duplicadas = filas_duplicadas.sum()\n",
    "\n",
    "#Mostramos el número de filas duplicadas\n",
    "print(f'Número de filas duplicadas en la tabla de factura_compras: {contar_filas_duplicadas}')\n",
    "\n",
    "#Mostramos las filas filas duplicadas \n",
    "if contar_filas_duplicadas > 0:\n",
    "    print(\"Filas duplicadas en la tabla Producto:\")\n",
    "    print(InvoicePurchases[filas_duplicadas])"
   ]
  },
  {
   "cell_type": "code",
   "execution_count": 8,
   "metadata": {},
   "outputs": [
    {
     "name": "stdout",
     "output_type": "stream",
     "text": [
      "No hay valores negativos en el Dataframe.\n"
     ]
    }
   ],
   "source": [
    "#Verificamos solo las columnas numericas con valores negativos \n",
    "negativos = InvoicePurchases.select_dtypes(include=['number']) < 0\n",
    "\n",
    "# Obtenemos los nombres de las columnas que tienen valores negativos\n",
    "columnas_negativas = negativos.any()\n",
    "\n",
    "# Filtramos las columnas que tienen al menos un valor negativo\n",
    "columnas_con_negativos = columnas_negativas[columnas_negativas].index.tolist()\n",
    "\n",
    "# Imprimimos los resultados\n",
    "if columnas_con_negativos:\n",
    "    print(f\"Columnas con valores negativos: {columnas_con_negativos}\")\n",
    "    for column in columnas_con_negativos:\n",
    "        print(f\"\\nValores negativos en la columna '{column}':\")\n",
    "        print(InvoicePurchases[InvoicePurchases[column] < 0]) # muestra las filas negativas\n",
    "else:\n",
    "    print(\"No hay valores negativos en el Dataframe.\")"
   ]
  },
  {
   "cell_type": "code",
   "execution_count": 11,
   "metadata": {},
   "outputs": [],
   "source": [
    "#Se borra la columna Approval para alivianar la base, Las facturas ya estan emitidas \n",
    "del InvoicePurchases['Approval']"
   ]
  },
  {
   "cell_type": "code",
   "execution_count": 12,
   "metadata": {},
   "outputs": [
    {
     "name": "stdout",
     "output_type": "stream",
     "text": [
      "No se encontraron filas con valores nulos.\n"
     ]
    }
   ],
   "source": [
    "#Verificamos las filas con valores nulos\n",
    "Compras_filas_nulas = InvoicePurchases.isnull().any(axis=1)\n",
    "\n",
    "#Mostramos las filas con valores nulos\n",
    "Compras_filas_con_nulos = InvoicePurchases [Compras_filas_nulas]\n",
    "\n",
    "#Imprimimos las filas con valores nulos\n",
    "if not Compras_filas_con_nulos.empty:\n",
    "    print(\"Filas con valores nulos encontradas:\")\n",
    "    print(Compras_filas_con_nulos)\n",
    "else:\n",
    "    print(\"No se encontraron filas con valores nulos.\")"
   ]
  },
  {
   "cell_type": "code",
   "execution_count": 13,
   "metadata": {},
   "outputs": [
    {
     "name": "stdout",
     "output_type": "stream",
     "text": [
      "<class 'pandas.core.frame.DataFrame'>\n",
      "RangeIndex: 5543 entries, 0 to 5542\n",
      "Data columns (total 9 columns):\n",
      " #   Column        Non-Null Count  Dtype         \n",
      "---  ------        --------------  -----         \n",
      " 0   VendorNumber  5543 non-null   int64         \n",
      " 1   VendorName    5543 non-null   object        \n",
      " 2   InvoiceDate   5543 non-null   datetime64[ns]\n",
      " 3   PONumber      5543 non-null   int64         \n",
      " 4   PODate        5543 non-null   datetime64[ns]\n",
      " 5   PayDate       5543 non-null   datetime64[ns]\n",
      " 6   Quantity      5543 non-null   int64         \n",
      " 7   Dollars       5543 non-null   float64       \n",
      " 8   Freight       5543 non-null   float64       \n",
      "dtypes: datetime64[ns](3), float64(2), int64(3), object(1)\n",
      "memory usage: 389.9+ KB\n"
     ]
    }
   ],
   "source": [
    "InvoicePurchases.info()"
   ]
  },
  {
   "cell_type": "code",
   "execution_count": 14,
   "metadata": {},
   "outputs": [
    {
     "name": "stdout",
     "output_type": "stream",
     "text": [
      "VendorNumber\n",
      "count      5543.00000\n",
      "mean      20662.75212\n",
      "std       34582.15841\n",
      "min           2.00000\n",
      "25%        3089.00000\n",
      "50%        7240.00000\n",
      "75%       10754.00000\n",
      "max      201359.00000\n",
      "Name: VendorNumber, dtype: float64\n",
      "--------------------------------------------------------------\n",
      "VendorName\n",
      "count                            5543\n",
      "unique                            129\n",
      "top       AMERICAN VINTAGE BEVERAGE  \n",
      "freq                               55\n",
      "Name: VendorName, dtype: object\n",
      "--------------------------------------------------------------\n",
      "InvoiceDate\n",
      "count                             5543\n",
      "mean     2016-07-10 18:59:25.578206720\n",
      "min                2016-01-04 00:00:00\n",
      "25%                2016-04-11 00:00:00\n",
      "50%                2016-07-11 00:00:00\n",
      "75%                2016-10-09 00:00:00\n",
      "max                2017-01-10 00:00:00\n",
      "Name: InvoiceDate, dtype: object\n",
      "--------------------------------------------------------------\n",
      "PONumber\n",
      "count     5543.000000\n",
      "mean     10889.419087\n",
      "std       1600.859969\n",
      "min       8106.000000\n",
      "25%       9503.500000\n",
      "50%      10890.000000\n",
      "75%      12275.500000\n",
      "max      13661.000000\n",
      "Name: PONumber, dtype: float64\n",
      "--------------------------------------------------------------\n",
      "PODate\n",
      "count                             5543\n",
      "mean     2016-06-24 08:48:08.832762112\n",
      "min                2015-12-20 00:00:00\n",
      "25%                2016-03-24 12:00:00\n",
      "50%                2016-06-25 00:00:00\n",
      "75%                2016-09-23 00:00:00\n",
      "max                2016-12-23 00:00:00\n",
      "Name: PODate, dtype: object\n",
      "--------------------------------------------------------------\n",
      "PayDate\n",
      "count                          5543\n",
      "mean     2016-08-15 06:14:05.607072\n",
      "min             2016-02-04 00:00:00\n",
      "25%             2016-05-16 00:00:00\n",
      "50%             2016-08-15 00:00:00\n",
      "75%             2016-11-14 00:00:00\n",
      "max             2017-02-19 00:00:00\n",
      "Name: PayDate, dtype: object\n",
      "--------------------------------------------------------------\n",
      "Quantity\n",
      "count      5543.000000\n",
      "mean       6058.880931\n",
      "std       14453.338164\n",
      "min           1.000000\n",
      "25%          83.000000\n",
      "50%         423.000000\n",
      "75%        5100.500000\n",
      "max      141660.000000\n",
      "Name: Quantity, dtype: float64\n",
      "--------------------------------------------------------------\n",
      "Dollars\n",
      "count    5.543000e+03\n",
      "mean     5.807338e+04\n",
      "std      1.402340e+05\n",
      "min      4.140000e+00\n",
      "25%      9.678100e+02\n",
      "50%      4.765450e+03\n",
      "75%      4.458718e+04\n",
      "max      1.660436e+06\n",
      "Name: Dollars, dtype: float64\n",
      "--------------------------------------------------------------\n",
      "Freight\n",
      "count    5543.000000\n",
      "mean      295.954301\n",
      "std       713.585093\n",
      "min         0.020000\n",
      "25%         5.020000\n",
      "50%        24.730000\n",
      "75%       229.660000\n",
      "max      8468.220000\n",
      "Name: Freight, dtype: float64\n",
      "--------------------------------------------------------------\n"
     ]
    }
   ],
   "source": [
    "#Estadisticas de cada columna\n",
    "for i in InvoicePurchases.columns:\n",
    "    print(i)\n",
    "    #Esto imprime las estadísticas descriptivas (como count, mean, std, min, 25%, 50%, 75%, max) para esa columna.\n",
    "    print(InvoicePurchases[i].describe())\n",
    "    print('--------------------------------------------------------------')"
   ]
  },
  {
   "cell_type": "code",
   "execution_count": 15,
   "metadata": {},
   "outputs": [],
   "source": [
    "#Aqui se volvio a decicir borrar la columna VendorName ya que existe VendorNumber y se puede identificar con esto\n",
    "del InvoicePurchases['VendorName']"
   ]
  },
  {
   "cell_type": "code",
   "execution_count": 16,
   "metadata": {},
   "outputs": [
    {
     "name": "stdout",
     "output_type": "stream",
     "text": [
      "<class 'pandas.core.frame.DataFrame'>\n",
      "RangeIndex: 5543 entries, 0 to 5542\n",
      "Data columns (total 8 columns):\n",
      " #   Column        Non-Null Count  Dtype         \n",
      "---  ------        --------------  -----         \n",
      " 0   VendorNumber  5543 non-null   int64         \n",
      " 1   InvoiceDate   5543 non-null   datetime64[ns]\n",
      " 2   PONumber      5543 non-null   int64         \n",
      " 3   PODate        5543 non-null   datetime64[ns]\n",
      " 4   PayDate       5543 non-null   datetime64[ns]\n",
      " 5   Quantity      5543 non-null   int64         \n",
      " 6   Dollars       5543 non-null   float64       \n",
      " 7   Freight       5543 non-null   float64       \n",
      "dtypes: datetime64[ns](3), float64(2), int64(3)\n",
      "memory usage: 346.6 KB\n"
     ]
    }
   ],
   "source": [
    "#El archivo limpio y filtrado\n",
    "InvoicePurchases.info()"
   ]
  },
  {
   "cell_type": "code",
   "execution_count": 19,
   "metadata": {},
   "outputs": [
    {
     "name": "stdout",
     "output_type": "stream",
     "text": [
      "<class 'pandas.core.frame.DataFrame'>\n",
      "RangeIndex: 5543 entries, 0 to 5542\n",
      "Data columns (total 8 columns):\n",
      " #   Column       Non-Null Count  Dtype         \n",
      "---  ------       --------------  -----         \n",
      " 0   VendorID     5543 non-null   int64         \n",
      " 1   InvoiceDate  5543 non-null   datetime64[ns]\n",
      " 2   PONumber     5543 non-null   int64         \n",
      " 3   PODate       5543 non-null   datetime64[ns]\n",
      " 4   PayDate      5543 non-null   datetime64[ns]\n",
      " 5   Quantity     5543 non-null   int64         \n",
      " 6   Price        5543 non-null   float64       \n",
      " 7   Freight      5543 non-null   float64       \n",
      "dtypes: datetime64[ns](3), float64(2), int64(3)\n",
      "memory usage: 346.6 KB\n"
     ]
    }
   ],
   "source": [
    "#Renombramos, Guardamos el dataframe en tipo csv y listo para normalizar.\n",
    "InvoicePurchases = InvoicePurchases.rename(columns={\n",
    "    'VendorNumber':'VendorID',\n",
    "    'InvoiceDate': 'InvoiceDate',\n",
    "    'PONumber': 'PONumber',\n",
    "    'PODate': 'PODate',\n",
    "    'PayDate': 'PayDate',\n",
    "    'Quantity': 'Quantity',\n",
    "    'Dollars': 'Price',\n",
    "    'Freight': 'Freight'\n",
    "    })\n",
    "InvoicePurchases.info()\n",
    "InvoicePurchases.to_csv (r\"C:\\Users\\Admin\\Desktop\\proyecto final\\Proceso\\CSV listos\\InvoicePurchases.csv\")"
   ]
  }
 ],
 "metadata": {
  "kernelspec": {
   "display_name": "Python 3",
   "language": "python",
   "name": "python3"
  },
  "language_info": {
   "codemirror_mode": {
    "name": "ipython",
    "version": 3
   },
   "file_extension": ".py",
   "mimetype": "text/x-python",
   "name": "python",
   "nbconvert_exporter": "python",
   "pygments_lexer": "ipython3",
   "version": "3.12.6"
  }
 },
 "nbformat": 4,
 "nbformat_minor": 2
}
