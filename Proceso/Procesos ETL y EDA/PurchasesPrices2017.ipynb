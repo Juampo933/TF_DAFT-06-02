{
 "cells": [
  {
   "cell_type": "markdown",
   "metadata": {},
   "source": [
    "# ETL Y EDA PURCHASES PRICES 2017"
   ]
  },
  {
   "cell_type": "code",
   "execution_count": 1,
   "metadata": {},
   "outputs": [],
   "source": [
    "#Importamos las librerias\n",
    "import numpy as np\n",
    "import pandas as pd\n",
    "import matplotlib.pyplot as plt\n",
    "import seaborn as sns"
   ]
  },
  {
   "cell_type": "code",
   "execution_count": 2,
   "metadata": {},
   "outputs": [],
   "source": [
    "#Cargamos el archivo csv y nombramos dataset\n",
    "PurchasesPrices = pd.read_csv(\"2017PurchasePricesDec.csv\")\n"
   ]
  },
  {
   "cell_type": "code",
   "execution_count": 3,
   "metadata": {},
   "outputs": [
    {
     "name": "stdout",
     "output_type": "stream",
     "text": [
      "<class 'pandas.core.frame.DataFrame'>\n",
      "RangeIndex: 12261 entries, 0 to 12260\n",
      "Data columns (total 9 columns):\n",
      " #   Column          Non-Null Count  Dtype  \n",
      "---  ------          --------------  -----  \n",
      " 0   Brand           12261 non-null  int64  \n",
      " 1   Description     12260 non-null  object \n",
      " 2   Price           12261 non-null  float64\n",
      " 3   Size            12260 non-null  object \n",
      " 4   Volume          12260 non-null  object \n",
      " 5   Classification  12261 non-null  int64  \n",
      " 6   PurchasePrice   12261 non-null  float64\n",
      " 7   VendorNumber    12261 non-null  int64  \n",
      " 8   VendorName      12261 non-null  object \n",
      "dtypes: float64(2), int64(3), object(4)\n",
      "memory usage: 862.2+ KB\n"
     ]
    }
   ],
   "source": [
    "#Informacion el dataset\n",
    "PurchasesPrices.info()"
   ]
  },
  {
   "cell_type": "code",
   "execution_count": 4,
   "metadata": {},
   "outputs": [
    {
     "data": {
      "text/html": [
       "<div>\n",
       "<style scoped>\n",
       "    .dataframe tbody tr th:only-of-type {\n",
       "        vertical-align: middle;\n",
       "    }\n",
       "\n",
       "    .dataframe tbody tr th {\n",
       "        vertical-align: top;\n",
       "    }\n",
       "\n",
       "    .dataframe thead th {\n",
       "        text-align: right;\n",
       "    }\n",
       "</style>\n",
       "<table border=\"1\" class=\"dataframe\">\n",
       "  <thead>\n",
       "    <tr style=\"text-align: right;\">\n",
       "      <th></th>\n",
       "      <th>Brand</th>\n",
       "      <th>Description</th>\n",
       "      <th>Price</th>\n",
       "      <th>Size</th>\n",
       "      <th>Volume</th>\n",
       "      <th>Classification</th>\n",
       "      <th>PurchasePrice</th>\n",
       "      <th>VendorNumber</th>\n",
       "      <th>VendorName</th>\n",
       "    </tr>\n",
       "  </thead>\n",
       "  <tbody>\n",
       "    <tr>\n",
       "      <th>0</th>\n",
       "      <td>58</td>\n",
       "      <td>Gekkeikan Black &amp; Gold Sake</td>\n",
       "      <td>12.99</td>\n",
       "      <td>750mL</td>\n",
       "      <td>750</td>\n",
       "      <td>1</td>\n",
       "      <td>9.28</td>\n",
       "      <td>8320</td>\n",
       "      <td>SHAW ROSS INT L IMP LTD</td>\n",
       "    </tr>\n",
       "    <tr>\n",
       "      <th>1</th>\n",
       "      <td>62</td>\n",
       "      <td>Herradura Silver Tequila</td>\n",
       "      <td>36.99</td>\n",
       "      <td>750mL</td>\n",
       "      <td>750</td>\n",
       "      <td>1</td>\n",
       "      <td>28.67</td>\n",
       "      <td>1128</td>\n",
       "      <td>BROWN-FORMAN CORP</td>\n",
       "    </tr>\n",
       "    <tr>\n",
       "      <th>2</th>\n",
       "      <td>63</td>\n",
       "      <td>Herradura Reposado Tequila</td>\n",
       "      <td>38.99</td>\n",
       "      <td>750mL</td>\n",
       "      <td>750</td>\n",
       "      <td>1</td>\n",
       "      <td>30.46</td>\n",
       "      <td>1128</td>\n",
       "      <td>BROWN-FORMAN CORP</td>\n",
       "    </tr>\n",
       "    <tr>\n",
       "      <th>3</th>\n",
       "      <td>72</td>\n",
       "      <td>No. 3 London Dry Gin</td>\n",
       "      <td>34.99</td>\n",
       "      <td>750mL</td>\n",
       "      <td>750</td>\n",
       "      <td>1</td>\n",
       "      <td>26.11</td>\n",
       "      <td>9165</td>\n",
       "      <td>ULTRA BEVERAGE COMPANY LLP</td>\n",
       "    </tr>\n",
       "    <tr>\n",
       "      <th>4</th>\n",
       "      <td>75</td>\n",
       "      <td>Three Olives Tomato Vodka</td>\n",
       "      <td>14.99</td>\n",
       "      <td>750mL</td>\n",
       "      <td>750</td>\n",
       "      <td>1</td>\n",
       "      <td>10.94</td>\n",
       "      <td>7245</td>\n",
       "      <td>PROXIMO SPIRITS INC.</td>\n",
       "    </tr>\n",
       "  </tbody>\n",
       "</table>\n",
       "</div>"
      ],
      "text/plain": [
       "   Brand                  Description  Price   Size Volume  Classification  \\\n",
       "0     58  Gekkeikan Black & Gold Sake  12.99  750mL    750               1   \n",
       "1     62     Herradura Silver Tequila  36.99  750mL    750               1   \n",
       "2     63   Herradura Reposado Tequila  38.99  750mL    750               1   \n",
       "3     72         No. 3 London Dry Gin  34.99  750mL    750               1   \n",
       "4     75    Three Olives Tomato Vodka  14.99  750mL    750               1   \n",
       "\n",
       "   PurchasePrice  VendorNumber                   VendorName  \n",
       "0           9.28          8320  SHAW ROSS INT L IMP LTD      \n",
       "1          28.67          1128  BROWN-FORMAN CORP            \n",
       "2          30.46          1128  BROWN-FORMAN CORP            \n",
       "3          26.11          9165  ULTRA BEVERAGE COMPANY LLP   \n",
       "4          10.94          7245  PROXIMO SPIRITS INC.         "
      ]
     },
     "execution_count": 4,
     "metadata": {},
     "output_type": "execute_result"
    }
   ],
   "source": [
    "#Primeras filas\n",
    "PurchasesPrices.head()"
   ]
  },
  {
   "cell_type": "code",
   "execution_count": 5,
   "metadata": {},
   "outputs": [
    {
     "name": "stdout",
     "output_type": "stream",
     "text": [
      "\n",
      "Valores nulos por columna:\n",
      "Brand             0\n",
      "Description       1\n",
      "Price             0\n",
      "Size              1\n",
      "Volume            1\n",
      "Classification    0\n",
      "PurchasePrice     0\n",
      "VendorNumber      0\n",
      "VendorName        0\n",
      "dtype: int64\n"
     ]
    }
   ],
   "source": [
    "#Verificamos valores nulos en cada columna\n",
    "print(\"\\nValores nulos por columna:\")\n",
    "print(PurchasesPrices.isnull().sum())"
   ]
  },
  {
   "cell_type": "code",
   "execution_count": 6,
   "metadata": {},
   "outputs": [
    {
     "name": "stdout",
     "output_type": "stream",
     "text": [
      "Número de filas duplicadas en la tabla de factura_compras: 0\n"
     ]
    }
   ],
   "source": [
    "#Averiguamos si existen filas duplicadas\n",
    "filas_duplicadas = PurchasesPrices.duplicated()\n",
    "\n",
    "#Hacemos el recuento de las filas duplicadas\n",
    "contar_filas_duplicadas = filas_duplicadas.sum()\n",
    "\n",
    "#Mostramos el número de filas duplicadas\n",
    "print(f'Número de filas duplicadas en la tabla de factura_compras: {contar_filas_duplicadas}')\n",
    "\n",
    "#Mostramos las filas filas duplicadas \n",
    "if contar_filas_duplicadas > 0:\n",
    "    print(\"Filas duplicadas en la tabla Producto:\")\n",
    "    print(PurchasesPrices[filas_duplicadas])"
   ]
  },
  {
   "cell_type": "code",
   "execution_count": 7,
   "metadata": {},
   "outputs": [
    {
     "name": "stdout",
     "output_type": "stream",
     "text": [
      "No hay valores negativos en el Dataframe.\n"
     ]
    }
   ],
   "source": [
    "#Verificamos solo las columnas numericas con valores negativos \n",
    "negativos = PurchasesPrices.select_dtypes(include=['number']) < 0\n",
    "\n",
    "# Obtenemos los nombres de las columnas que tienen valores negativos\n",
    "columnas_negativas = negativos.any()\n",
    "\n",
    "# Filtramos las columnas que tienen al menos un valor negativo\n",
    "columnas_con_negativos = columnas_negativas[columnas_negativas].index.tolist()\n",
    "\n",
    "# Imprimimos los resultados\n",
    "if columnas_con_negativos:\n",
    "    print(f\"Columnas con valores negativos: {columnas_con_negativos}\")\n",
    "    for column in columnas_con_negativos:\n",
    "        print(f\"\\nValores negativos en la columna '{column}':\")\n",
    "        print(PurchasesPrices[PurchasesPrices[column] < 0]) # muestra las filas negativas\n",
    "else:\n",
    "    print(\"No hay valores negativos en el Dataframe.\")"
   ]
  },
  {
   "cell_type": "code",
   "execution_count": 8,
   "metadata": {},
   "outputs": [],
   "source": [
    "#Se borra la columna VendorName para alivianar la base\n",
    "del PurchasesPrices['VendorName']"
   ]
  },
  {
   "cell_type": "code",
   "execution_count": 9,
   "metadata": {},
   "outputs": [
    {
     "name": "stderr",
     "output_type": "stream",
     "text": [
      "C:\\Users\\Admin\\AppData\\Local\\Temp\\ipykernel_520\\2944711371.py:2: FutureWarning: A value is trying to be set on a copy of a DataFrame or Series through chained assignment using an inplace method.\n",
      "The behavior will change in pandas 3.0. This inplace method will never work because the intermediate object on which we are setting values always behaves as a copy.\n",
      "\n",
      "For example, when doing 'df[col].method(value, inplace=True)', try using 'df.method({col: value}, inplace=True)' or df[col] = df[col].method(value) instead, to perform the operation inplace on the original object.\n",
      "\n",
      "\n",
      "  PurchasesPrices['Price'].fillna(PurchasesPrices['Price'].mean(), inplace=True)\n",
      "C:\\Users\\Admin\\AppData\\Local\\Temp\\ipykernel_520\\2944711371.py:5: FutureWarning: A value is trying to be set on a copy of a DataFrame or Series through chained assignment using an inplace method.\n",
      "The behavior will change in pandas 3.0. This inplace method will never work because the intermediate object on which we are setting values always behaves as a copy.\n",
      "\n",
      "For example, when doing 'df[col].method(value, inplace=True)', try using 'df.method({col: value}, inplace=True)' or df[col] = df[col].method(value) instead, to perform the operation inplace on the original object.\n",
      "\n",
      "\n",
      "  PurchasesPrices['PurchasePrice'].fillna(PurchasesPrices['PurchasePrice'].mean(), inplace=True)\n"
     ]
    }
   ],
   "source": [
    "#Rellenamos valores nulos en 'Price' con la media\n",
    "PurchasesPrices['Price'].fillna(PurchasesPrices['Price'].mean(), inplace=True)\n",
    "\n",
    "#Rellenamos valores nulos en 'PurchasePrice' con la media\n",
    "PurchasesPrices['PurchasePrice'].fillna(PurchasesPrices['PurchasePrice'].mean(), inplace=True)\n",
    "\n",
    "#Elimnamos duplicados\n",
    "PurchasesPrices.drop_duplicates(inplace=True)"
   ]
  },
  {
   "cell_type": "code",
   "execution_count": 10,
   "metadata": {},
   "outputs": [
    {
     "name": "stdout",
     "output_type": "stream",
     "text": [
      "     Size  SizeMl\n",
      "0   750mL   750.0\n",
      "1   750mL   750.0\n",
      "2   750mL   750.0\n",
      "3   750mL   750.0\n",
      "4   750mL   750.0\n",
      "5   750mL   750.0\n",
      "6   750mL   750.0\n",
      "7  1000mL  1000.0\n",
      "8  1000mL  1000.0\n",
      "9   750mL   750.0\n"
     ]
    }
   ],
   "source": [
    "#Como en los demas archivos se encuestra la misma convercion de la columna Size, creando SizeMl\n",
    "import re\n",
    "\n",
    "def convertir_a_ml(size):\n",
    "    # Expresión regular para extraer el número principal, unidad y posibles cantidades de paquetes\n",
    "    match = re.match(r\"(\\d+(\\.\\d+)?)\\s*(mL|L|liter|oz)?(?:\\s*(\\d+)?\\s*Pk)?\", str(size), re.IGNORECASE)\n",
    "    \n",
    "    if match:\n",
    "        valor = float(match.group(1))  # Valor numérico principal\n",
    "        unidad = match.group(3).lower() if match.group(3) else ''  # Unidad de medida\n",
    "        cantidad_pk = int(match.group(4)) if match.group(4) else 1  # Cantidad en el paquete, por defecto 1\n",
    "        \n",
    "        # Convertir a mililitros según la unidad\n",
    "        if unidad in ['l', 'liter']:\n",
    "            return valor * 1000 * cantidad_pk  # Convertir litros a mililitros y multiplicar por cantidad\n",
    "        elif unidad == 'oz':\n",
    "            return valor * 29.5735 * cantidad_pk  # Convertir onzas a mililitros y multiplicar por cantidad\n",
    "        elif unidad == 'ml':\n",
    "            return valor * cantidad_pk  # Ya está en mililitros, multiplicar por cantidad\n",
    "    return None\n",
    "\n",
    "# Aplicar la función a la columna 'Size' para crear la columna 'Size_ml' en mL\n",
    "PurchasesPrices['SizeMl'] = PurchasesPrices['Size'].apply(convertir_a_ml)\n",
    "\n",
    "# Verificar el resultado\n",
    "print(PurchasesPrices[['Size', 'SizeMl']].head(10))"
   ]
  },
  {
   "cell_type": "code",
   "execution_count": 11,
   "metadata": {},
   "outputs": [
    {
     "name": "stdout",
     "output_type": "stream",
     "text": [
      "[  750.   1000.   1750.     50.    375.    400.    250.    100.    200.\n",
      "   150.    300.    800.   1500.   3000.   5000.   4000.    748.    187.\n",
      "   500.    720.    650.    600.    561.    330.  18000.    180.   6000.\n",
      "  2000.   4500.  20000.   2250.   1125.    162.5  1100.  19500.    560.\n",
      "  3750.   9000. ]\n"
     ]
    }
   ],
   "source": [
    "# Eliminar filas donde 'SizeMl' tiene valores NaN\n",
    "PurchasesPrices = PurchasesPrices.dropna(subset=['SizeMl'])\n",
    "\n",
    "# Verificar el resultado\n",
    "print(PurchasesPrices['SizeMl'].unique())"
   ]
  },
  {
   "cell_type": "code",
   "execution_count": 12,
   "metadata": {},
   "outputs": [],
   "source": [
    "#Borramos la columna Size\n",
    "\n",
    "del PurchasesPrices['Size']"
   ]
  },
  {
   "cell_type": "code",
   "execution_count": 25,
   "metadata": {},
   "outputs": [
    {
     "data": {
      "text/plain": [
       "array(['750', '1000', '1750', '50', '375', '100', '200', '300', '250',\n",
       "       '1500', '3000', '5000', '4000', '187', '150', '500', '720', '650',\n",
       "       '330', '18000', '180', '6000', '20', '20000', '162.5', '400',\n",
       "       '1100', '600', '19500', '560', '3750', '9000'], dtype=object)"
      ]
     },
     "execution_count": 25,
     "metadata": {},
     "output_type": "execute_result"
    }
   ],
   "source": [
    "PurchasesPrices['Volume'].unique()"
   ]
  },
  {
   "cell_type": "code",
   "execution_count": 28,
   "metadata": {},
   "outputs": [
    {
     "name": "stdout",
     "output_type": "stream",
     "text": [
      "Cantidad de valores NaN en 'Volume': 0\n"
     ]
    }
   ],
   "source": [
    "#Contamos los valores NaN en la columna 'Volume'\n",
    "nan_volume_count = PurchasesPrices['Volume'].isnull().sum()\n",
    "print(f\"Cantidad de valores NaN en 'Volume': {nan_volume_count}\")\n"
   ]
  },
  {
   "cell_type": "code",
   "execution_count": 30,
   "metadata": {},
   "outputs": [],
   "source": [
    "#Convertimos la columna en numeros enteros\n",
    "PurchasesPrices['Volume'] = pd.to_numeric(PurchasesPrices['Volume'], errors='coerce')  # Convierte a numérico, poniendo NaN en casos no convertibles\n"
   ]
  },
  {
   "cell_type": "code",
   "execution_count": 34,
   "metadata": {},
   "outputs": [
    {
     "data": {
      "image/png": "[encoded data removed]",
      "text/plain": [
       "<Figure size 1000x600 with 1 Axes>"
      ]
     },
     "metadata": {},
     "output_type": "display_data"
    }
   ],
   "source": [
    "#Creamos Graficos para el analisis\n",
    "#Distribución de los Precios de Compra\n",
    "#Podemos ver los precios se concentran entre los 200 dolares \n",
    "plt.figure(figsize=(10, 6))\n",
    "sns.histplot(PurchasesPrices['Price'], bins=30, kde=True, color='green')\n",
    "plt.title('Distribución de los Precios de Compra', fontsize=16)\n",
    "plt.xlabel('Precio', fontsize=12)\n",
    "plt.ylabel('Frecuencia', fontsize=12)\n",
    "plt.xlim(0, 500) \n",
    "plt.show()\n",
    "\n"
   ]
  },
  {
   "cell_type": "code",
   "execution_count": 39,
   "metadata": {},
   "outputs": [
    {
     "data": {
      "image/png": "[encoded data removed]",
      "text/plain": [
       "<Figure size 1000x600 with 1 Axes>"
      ]
     },
     "metadata": {},
     "output_type": "display_data"
    }
   ],
   "source": [
    "#Creamos la clasificación de Productos y sus Precios\n",
    "#Encontramos que la clasificacion 1 tiene mayor y dispersion rango de precios \n",
    "plt.figure(figsize=(10, 6))\n",
    "sns.boxplot(x='Classification', y='Price', data=PurchasesPrices)\n",
    "plt.title('Precios por Clasificación de Producto', fontsize=16)\n",
    "plt.xlabel('Clasificación', fontsize=12)\n",
    "plt.ylabel('Precio', fontsize=12)\n",
    "plt.show()\n",
    "\n"
   ]
  },
  {
   "cell_type": "code",
   "execution_count": 43,
   "metadata": {},
   "outputs": [
    {
     "name": "stdout",
     "output_type": "stream",
     "text": [
      "<class 'pandas.core.frame.DataFrame'>\n",
      "Index: 12256 entries, 0 to 12260\n",
      "Data columns (total 8 columns):\n",
      " #   Column          Non-Null Count  Dtype  \n",
      "---  ------          --------------  -----  \n",
      " 0   BrandID         12256 non-null  int64  \n",
      " 1   Description     12256 non-null  object \n",
      " 2   Price           12256 non-null  float64\n",
      " 3   Volume          12256 non-null  float64\n",
      " 4   Classification  12256 non-null  int64  \n",
      " 5   PurchasePrice   12256 non-null  float64\n",
      " 6   VendorID        12256 non-null  int64  \n",
      " 7   SizeMl          12256 non-null  float64\n",
      "dtypes: float64(4), int64(3), object(1)\n",
      "memory usage: 861.8+ KB\n"
     ]
    }
   ],
   "source": [
    "#Renombramos, Guardamos el dataframe en tipo csv y listo para normalizar.\n",
    "PurchasesPrices = PurchasesPrices.rename(columns={\n",
    "    'Brand': 'BrandID',\n",
    "    'Description': 'Description',\n",
    "    'Price': 'Price',\n",
    "    'Volume': 'Volume',\n",
    "    'Classification': 'Classification',\n",
    "    'PurchasePrice': 'PurchasePrice',\n",
    "    'VendorNumber': 'VendorID',\n",
    "    'SizeMl': 'SizeMl',\n",
    "    })\n",
    "PurchasesPrices.info()\n",
    "PurchasesPrices.to_csv (r\"C:\\Users\\Admin\\Desktop\\proyecto final\\Proceso\\CSV listos\\PurchasesPrices.csv\")"
   ]
  }
 ],
 "metadata": {
  "kernelspec": {
   "display_name": "Python 3",
   "language": "python",
   "name": "python3"
  },
  "language_info": {
   "codemirror_mode": {
    "name": "ipython",
    "version": 3
   },
   "file_extension": ".py",
   "mimetype": "text/x-python",
   "name": "python",
   "nbconvert_exporter": "python",
   "pygments_lexer": "ipython3",
   "version": "3.12.6"
  }
 },
 "nbformat": 4,
 "nbformat_minor": 2
}
