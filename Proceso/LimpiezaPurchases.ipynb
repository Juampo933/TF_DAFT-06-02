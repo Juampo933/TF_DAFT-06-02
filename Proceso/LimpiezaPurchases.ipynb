{
 "cells": [
  {
   "cell_type": "code",
   "execution_count": 1,
   "metadata": {},
   "outputs": [],
   "source": [
    "#Carga de Librerias\n",
    "import pandas as pd\n",
    "import numpy as np \n",
    "import matplotlib.pyplot as plt \n",
    "import seaborn as sns\n",
    "import os"
   ]
  },
  {
   "cell_type": "code",
   "execution_count": 2,
   "metadata": {},
   "outputs": [],
   "source": [
    "Purchases_2016 = pd.read_csv(\"PurchasesFINAL12312016.csv\")"
   ]
  },
  {
   "cell_type": "code",
   "execution_count": 5,
   "metadata": {},
   "outputs": [
    {
     "name": "stdout",
     "output_type": "stream",
     "text": [
      "<class 'pandas.core.frame.DataFrame'>\n",
      "RangeIndex: 2372474 entries, 0 to 2372473\n",
      "Data columns (total 16 columns):\n",
      " #   Column          Dtype         \n",
      "---  ------          -----         \n",
      " 0   InventoryId     object        \n",
      " 1   Store           int64         \n",
      " 2   Brand           int64         \n",
      " 3   Description     object        \n",
      " 4   Size            object        \n",
      " 5   VendorNumber    int64         \n",
      " 6   VendorName      object        \n",
      " 7   PONumber        int64         \n",
      " 8   PODate          datetime64[ns]\n",
      " 9   ReceivingDate   datetime64[ns]\n",
      " 10  InvoiceDate     datetime64[ns]\n",
      " 11  PayDate         datetime64[ns]\n",
      " 12  PurchasePrice   float64       \n",
      " 13  Quantity        int64         \n",
      " 14  Dollars         float64       \n",
      " 15  Classification  int64         \n",
      "dtypes: datetime64[ns](4), float64(2), int64(6), object(4)\n",
      "memory usage: 289.6+ MB\n"
     ]
    }
   ],
   "source": [
    "Purchases_2016.info()"
   ]
  },
  {
   "cell_type": "code",
   "execution_count": 4,
   "metadata": {},
   "outputs": [],
   "source": [
    "#Convertir PODate, RecevingDate, InvoiceDate, PayDate en formato fecha\n",
    "\n",
    "Purchases_2016['PODate'] = pd.to_datetime(Purchases_2016['PODate'])\n",
    "Purchases_2016['ReceivingDate'] = pd.to_datetime(Purchases_2016['ReceivingDate'])\n",
    "Purchases_2016['InvoiceDate'] = pd.to_datetime(Purchases_2016['InvoiceDate'])\n",
    "Purchases_2016['PayDate'] = pd.to_datetime(Purchases_2016['PayDate'])\n"
   ]
  },
  {
   "cell_type": "code",
   "execution_count": 12,
   "metadata": {},
   "outputs": [
    {
     "name": "stdout",
     "output_type": "stream",
     "text": [
      "InventoryId\n",
      "count               2324824\n",
      "unique               241510\n",
      "top       73_DONCASTER_8068\n",
      "freq                    180\n",
      "Name: InventoryId, dtype: object\n",
      "--------------------------------------------------------------\n",
      "Store\n",
      "count    2.324824e+06\n",
      "mean     4.471684e+01\n",
      "std      2.348514e+01\n",
      "min      1.000000e+00\n",
      "25%      2.500000e+01\n",
      "50%      4.800000e+01\n",
      "75%      6.700000e+01\n",
      "max      8.100000e+01\n",
      "Name: Store, dtype: float64\n",
      "--------------------------------------------------------------\n",
      "Brand\n",
      "count    2.324824e+06\n",
      "mean     1.263551e+04\n",
      "std      1.257689e+04\n",
      "min      5.800000e+01\n",
      "25%      3.696000e+03\n",
      "50%      6.579000e+03\n",
      "75%      1.927000e+04\n",
      "max      9.063100e+04\n",
      "Name: Brand, dtype: float64\n",
      "--------------------------------------------------------------\n",
      "Description\n",
      "count                   2324824\n",
      "unique                     9425\n",
      "top       Tito's Handmade Vodka\n",
      "freq                      14081\n",
      "Name: Description, dtype: object\n",
      "--------------------------------------------------------------\n",
      "VendorNumber\n",
      "count    2.324824e+06\n",
      "mean     6.883554e+03\n",
      "std      8.050317e+03\n",
      "min      2.000000e+00\n",
      "25%      3.252000e+03\n",
      "50%      4.425000e+03\n",
      "75%      9.552000e+03\n",
      "max      1.733570e+05\n",
      "Name: VendorNumber, dtype: float64\n",
      "--------------------------------------------------------------\n",
      "VendorName\n",
      "count                         2324824\n",
      "unique                            127\n",
      "top       DIAGEO NORTH AMERICA INC   \n",
      "freq                           236005\n",
      "Name: VendorName, dtype: object\n",
      "--------------------------------------------------------------\n",
      "PONumber\n",
      "count    2.324824e+06\n",
      "mean     1.104165e+04\n",
      "std      1.565188e+03\n",
      "min      8.106000e+03\n",
      "25%      9.761000e+03\n",
      "50%      1.110300e+04\n",
      "75%      1.239700e+04\n",
      "max      1.366100e+04\n",
      "Name: PONumber, dtype: float64\n",
      "--------------------------------------------------------------\n",
      "PODate\n",
      "count                          2324824\n",
      "mean     2016-07-04 14:39:46.480526080\n",
      "min                2015-12-20 00:00:00\n",
      "25%                2016-04-12 00:00:00\n",
      "50%                2016-07-07 00:00:00\n",
      "75%                2016-09-30 00:00:00\n",
      "max                2016-12-23 00:00:00\n",
      "Name: PODate, dtype: object\n",
      "--------------------------------------------------------------\n",
      "ReceivingDate\n",
      "count                          2324824\n",
      "mean     2016-07-12 05:34:00.705705728\n",
      "min                2016-01-01 00:00:00\n",
      "25%                2016-04-20 00:00:00\n",
      "50%                2016-07-15 00:00:00\n",
      "75%                2016-10-07 00:00:00\n",
      "max                2016-12-31 00:00:00\n",
      "Name: ReceivingDate, dtype: object\n",
      "--------------------------------------------------------------\n",
      "InvoiceDate\n",
      "count                          2324824\n",
      "mean     2016-07-21 02:25:56.085793280\n",
      "min                2016-01-04 00:00:00\n",
      "25%                2016-04-29 00:00:00\n",
      "50%                2016-07-25 00:00:00\n",
      "75%                2016-10-17 00:00:00\n",
      "max                2017-01-10 00:00:00\n",
      "Name: InvoiceDate, dtype: object\n",
      "--------------------------------------------------------------\n",
      "PayDate\n",
      "count                          2324824\n",
      "mean     2016-08-25 18:21:03.245045760\n",
      "min                2016-02-04 00:00:00\n",
      "25%                2016-06-02 00:00:00\n",
      "50%                2016-08-29 00:00:00\n",
      "75%                2016-11-24 00:00:00\n",
      "max                2017-02-19 00:00:00\n",
      "Name: PayDate, dtype: object\n",
      "--------------------------------------------------------------\n",
      "PurchasePrice\n",
      "count    2.324824e+06\n",
      "mean     1.198077e+01\n",
      "std      1.745649e+01\n",
      "min      0.000000e+00\n",
      "25%      6.120000e+00\n",
      "50%      9.080000e+00\n",
      "75%      1.428000e+01\n",
      "max      5.681810e+03\n",
      "Name: PurchasePrice, dtype: float64\n",
      "--------------------------------------------------------------\n",
      "Quantity\n",
      "count    2.324824e+06\n",
      "mean     1.417846e+01\n",
      "std      2.346125e+01\n",
      "min      1.000000e+00\n",
      "25%      6.000000e+00\n",
      "50%      1.000000e+01\n",
      "75%      1.200000e+01\n",
      "max      3.816000e+03\n",
      "Name: Quantity, dtype: float64\n",
      "--------------------------------------------------------------\n",
      "Dollars\n",
      "count    2.324824e+06\n",
      "mean     1.345327e+02\n",
      "std      2.772867e+02\n",
      "min      0.000000e+00\n",
      "25%      4.884000e+01\n",
      "50%      8.280000e+01\n",
      "75%      1.383600e+02\n",
      "max      5.017570e+04\n",
      "Name: Dollars, dtype: float64\n",
      "--------------------------------------------------------------\n",
      "Classification\n",
      "count    2.324824e+06\n",
      "mean     1.451961e+00\n",
      "std      4.976870e-01\n",
      "min      1.000000e+00\n",
      "25%      1.000000e+00\n",
      "50%      1.000000e+00\n",
      "75%      2.000000e+00\n",
      "max      2.000000e+00\n",
      "Name: Classification, dtype: float64\n",
      "--------------------------------------------------------------\n",
      "Size_ml\n",
      "count    2.324824e+06\n",
      "mean     1.205367e+03\n",
      "std      8.486386e+02\n",
      "min      5.000000e+01\n",
      "25%      7.500000e+02\n",
      "50%      7.500000e+02\n",
      "75%      1.750000e+03\n",
      "max      2.000000e+04\n",
      "Name: Size_ml, dtype: float64\n",
      "--------------------------------------------------------------\n"
     ]
    }
   ],
   "source": [
    "#Estadisticas de cada columna\n",
    "for i in Purchases_2016.columns:\n",
    "    print(i)\n",
    "    #Esto imprime las estadísticas descriptivas (como count, mean, std, min, 25%, 50%, 75%, max) para esa columna.\n",
    "    print(Purchases_2016[i].describe())\n",
    "    print('--------------------------------------------------------------')"
   ]
  },
  {
   "cell_type": "code",
   "execution_count": 7,
   "metadata": {},
   "outputs": [
    {
     "name": "stdout",
     "output_type": "stream",
     "text": [
      "    Size  Size_ml\n",
      "0  750mL    750.0\n",
      "1  1.75L   1750.0\n",
      "2  1.75L   1750.0\n",
      "3  1.75L   1750.0\n",
      "4  750mL    750.0\n",
      "5  1.75L   1750.0\n",
      "6  750mL    750.0\n",
      "7  200mL    200.0\n",
      "8  750mL    750.0\n",
      "9  1.75L   1750.0\n"
     ]
    }
   ],
   "source": [
    "import re\n",
    "\n",
    "def convertir_a_ml(size):\n",
    "    # Expresión regular para extraer el número principal, unidad y posibles cantidades de paquetes\n",
    "    match = re.match(r\"(\\d+(\\.\\d+)?)\\s*(mL|L|liter|oz)?(?:\\s*(\\d+)?\\s*Pk)?\", str(size), re.IGNORECASE)\n",
    "    \n",
    "    if match:\n",
    "        valor = float(match.group(1))  # Valor numérico principal\n",
    "        unidad = match.group(3).lower() if match.group(3) else ''  # Unidad de medida\n",
    "        cantidad_pk = int(match.group(4)) if match.group(4) else 1  # Cantidad en el paquete, por defecto 1\n",
    "        \n",
    "        # Convertir a mililitros según la unidad\n",
    "        if unidad in ['l', 'liter']:\n",
    "            return valor * 1000 * cantidad_pk  # Convertir litros a mililitros y multiplicar por cantidad\n",
    "        elif unidad == 'oz':\n",
    "            return valor * 29.5735 * cantidad_pk  # Convertir onzas a mililitros y multiplicar por cantidad\n",
    "        elif unidad == 'ml':\n",
    "            return valor * cantidad_pk  # Ya está en mililitros, multiplicar por cantidad\n",
    "    return None\n",
    "\n",
    "# Aplicar la función a la columna 'Size' para crear la columna 'Size_ml' en mL\n",
    "Purchases_2016['Size_ml'] = Purchases_2016['Size'].apply(convertir_a_ml)\n",
    "\n",
    "# Verificar el resultado\n",
    "print(Purchases_2016[['Size', 'Size_ml']].head(10))"
   ]
  },
  {
   "cell_type": "code",
   "execution_count": 8,
   "metadata": {},
   "outputs": [
    {
     "name": "stdout",
     "output_type": "stream",
     "text": [
      "[  750.      1750.       200.      1500.        50.            nan\n",
      "   375.       100.      3000.       748.      1000.       500.\n",
      "   187.       400.      5000.      4000.       561.       250.\n",
      "   180.       800.       147.8675 18000.       300.       720.\n",
      "   150.       330.      2250.       600.      1125.       650.617\n",
      "  6000.     20000.       374.     19500.      4500.      9000.    ]\n"
     ]
    }
   ],
   "source": [
    "print(Purchases_2016['Size_ml'].unique())"
   ]
  },
  {
   "cell_type": "code",
   "execution_count": 9,
   "metadata": {},
   "outputs": [
    {
     "name": "stdout",
     "output_type": "stream",
     "text": [
      "[  750.      1750.       200.      1500.        50.       375.\n",
      "   100.      3000.       748.      1000.       500.       187.\n",
      "   400.      5000.      4000.       561.       250.       180.\n",
      "   800.       147.8675 18000.       300.       720.       150.\n",
      "   330.      2250.       600.      1125.       650.617   6000.\n",
      " 20000.       374.     19500.      4500.      9000.    ]\n"
     ]
    }
   ],
   "source": [
    "# Eliminar filas donde 'Size_ml' tiene valores NaN\n",
    "Purchases_2016 = Purchases_2016.dropna(subset=['Size_ml'])\n",
    "\n",
    "# Verificar el resultado\n",
    "print(Purchases_2016['Size_ml'].unique())"
   ]
  },
  {
   "cell_type": "code",
   "execution_count": 11,
   "metadata": {},
   "outputs": [],
   "source": [
    "del Purchases_2016['Size']"
   ]
  },
  {
   "cell_type": "code",
   "execution_count": 14,
   "metadata": {},
   "outputs": [],
   "source": [
    "Purchases_2016.to_csv(\"Purchases_final_2016.csv\")"
   ]
  }
 ],
 "metadata": {
  "kernelspec": {
   "display_name": "Python 3",
   "language": "python",
   "name": "python3"
  },
  "language_info": {
   "codemirror_mode": {
    "name": "ipython",
    "version": 3
   },
   "file_extension": ".py",
   "mimetype": "text/x-python",
   "name": "python",
   "nbconvert_exporter": "python",
   "pygments_lexer": "ipython3",
   "version": "3.12.6"
  }
 },
 "nbformat": 4,
 "nbformat_minor": 2
}
