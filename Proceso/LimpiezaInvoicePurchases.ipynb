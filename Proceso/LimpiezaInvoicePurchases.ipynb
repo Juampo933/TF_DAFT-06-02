{
 "cells": [
  {
   "cell_type": "code",
   "execution_count": 1,
   "metadata": {},
   "outputs": [],
   "source": [
    "#Carga de Librerias\n",
    "import pandas as pd\n",
    "import numpy as np \n",
    "import matplotlib.pyplot as plt \n",
    "import seaborn as sns\n",
    "import os"
   ]
  },
  {
   "cell_type": "code",
   "execution_count": 2,
   "metadata": {},
   "outputs": [],
   "source": [
    "inv_purchases_2016 = pd.read_csv(\"InvoicePurchases12312016.csv\")"
   ]
  },
  {
   "cell_type": "code",
   "execution_count": 9,
   "metadata": {},
   "outputs": [
    {
     "name": "stdout",
     "output_type": "stream",
     "text": [
      "<class 'pandas.core.frame.DataFrame'>\n",
      "RangeIndex: 5543 entries, 0 to 5542\n",
      "Data columns (total 9 columns):\n",
      " #   Column        Non-Null Count  Dtype         \n",
      "---  ------        --------------  -----         \n",
      " 0   VendorNumber  5543 non-null   int64         \n",
      " 1   VendorName    5543 non-null   object        \n",
      " 2   InvoiceDate   5543 non-null   datetime64[ns]\n",
      " 3   PONumber      5543 non-null   int64         \n",
      " 4   PODate        5543 non-null   datetime64[ns]\n",
      " 5   PayDate       5543 non-null   datetime64[ns]\n",
      " 6   Quantity      5543 non-null   int64         \n",
      " 7   Dollars       5543 non-null   float64       \n",
      " 8   Freight       5543 non-null   float64       \n",
      "dtypes: datetime64[ns](3), float64(2), int64(3), object(1)\n",
      "memory usage: 389.9+ KB\n"
     ]
    }
   ],
   "source": [
    "inv_purchases_2016.info()"
   ]
  },
  {
   "cell_type": "code",
   "execution_count": 6,
   "metadata": {},
   "outputs": [],
   "source": [
    "#Convertir PODate, PayDate, InvoiceDate en formato fecha\n",
    "inv_purchases_2016['InvoiceDate'] = pd.to_datetime(inv_purchases_2016['InvoiceDate'])\n",
    "inv_purchases_2016['PODate'] = pd.to_datetime(inv_purchases_2016['PODate'])\n",
    "inv_purchases_2016['PayDate'] = pd.to_datetime(inv_purchases_2016['PayDate'])"
   ]
  },
  {
   "cell_type": "code",
   "execution_count": 8,
   "metadata": {},
   "outputs": [],
   "source": [
    "#Borrar la columna approval, creo que es incesesaria \n",
    "del inv_purchases_2016['Approval']"
   ]
  },
  {
   "cell_type": "code",
   "execution_count": 12,
   "metadata": {},
   "outputs": [
    {
     "name": "stdout",
     "output_type": "stream",
     "text": [
      "VendorNumber\n",
      "count      5543.00000\n",
      "mean      20662.75212\n",
      "std       34582.15841\n",
      "min           2.00000\n",
      "25%        3089.00000\n",
      "50%        7240.00000\n",
      "75%       10754.00000\n",
      "max      201359.00000\n",
      "Name: VendorNumber, dtype: float64\n",
      "--------------------------------------------------------------\n",
      "VendorName\n",
      "count                            5543\n",
      "unique                            129\n",
      "top       AMERICAN VINTAGE BEVERAGE  \n",
      "freq                               55\n",
      "Name: VendorName, dtype: object\n",
      "--------------------------------------------------------------\n",
      "InvoiceDate\n",
      "count                             5543\n",
      "mean     2016-07-10 18:59:25.578206720\n",
      "min                2016-01-04 00:00:00\n",
      "25%                2016-04-11 00:00:00\n",
      "50%                2016-07-11 00:00:00\n",
      "75%                2016-10-09 00:00:00\n",
      "max                2017-01-10 00:00:00\n",
      "Name: InvoiceDate, dtype: object\n",
      "--------------------------------------------------------------\n",
      "PONumber\n",
      "count     5543.000000\n",
      "mean     10889.419087\n",
      "std       1600.859969\n",
      "min       8106.000000\n",
      "25%       9503.500000\n",
      "50%      10890.000000\n",
      "75%      12275.500000\n",
      "max      13661.000000\n",
      "Name: PONumber, dtype: float64\n",
      "--------------------------------------------------------------\n",
      "PODate\n",
      "count                             5543\n",
      "mean     2016-06-24 08:48:08.832762112\n",
      "min                2015-12-20 00:00:00\n",
      "25%                2016-03-24 12:00:00\n",
      "50%                2016-06-25 00:00:00\n",
      "75%                2016-09-23 00:00:00\n",
      "max                2016-12-23 00:00:00\n",
      "Name: PODate, dtype: object\n",
      "--------------------------------------------------------------\n",
      "PayDate\n",
      "count                          5543\n",
      "mean     2016-08-15 06:14:05.607072\n",
      "min             2016-02-04 00:00:00\n",
      "25%             2016-05-16 00:00:00\n",
      "50%             2016-08-15 00:00:00\n",
      "75%             2016-11-14 00:00:00\n",
      "max             2017-02-19 00:00:00\n",
      "Name: PayDate, dtype: object\n",
      "--------------------------------------------------------------\n",
      "Quantity\n",
      "count      5543.000000\n",
      "mean       6058.880931\n",
      "std       14453.338164\n",
      "min           1.000000\n",
      "25%          83.000000\n",
      "50%         423.000000\n",
      "75%        5100.500000\n",
      "max      141660.000000\n",
      "Name: Quantity, dtype: float64\n",
      "--------------------------------------------------------------\n",
      "Dollars\n",
      "count    5.543000e+03\n",
      "mean     5.807338e+04\n",
      "std      1.402340e+05\n",
      "min      4.140000e+00\n",
      "25%      9.678100e+02\n",
      "50%      4.765450e+03\n",
      "75%      4.458718e+04\n",
      "max      1.660436e+06\n",
      "Name: Dollars, dtype: float64\n",
      "--------------------------------------------------------------\n",
      "Freight\n",
      "count    5543.000000\n",
      "mean      295.954301\n",
      "std       713.585093\n",
      "min         0.020000\n",
      "25%         5.020000\n",
      "50%        24.730000\n",
      "75%       229.660000\n",
      "max      8468.220000\n",
      "Name: Freight, dtype: float64\n",
      "--------------------------------------------------------------\n"
     ]
    }
   ],
   "source": [
    "#Estadisticas de cada columna\n",
    "for i in inv_purchases_2016.columns:\n",
    "    print(i)\n",
    "    #Esto imprime las estadísticas descriptivas (como count, mean, std, min, 25%, 50%, 75%, max) para esa columna.\n",
    "    print(inv_purchases_2016[i].describe())\n",
    "    print('--------------------------------------------------------------')"
   ]
  },
  {
   "cell_type": "code",
   "execution_count": 13,
   "metadata": {},
   "outputs": [],
   "source": [
    "inv_purchases_2016.to_csv(\"Invoice_purchases_2016.csv\")"
   ]
  }
 ],
 "metadata": {
  "kernelspec": {
   "display_name": "Python 3",
   "language": "python",
   "name": "python3"
  },
  "language_info": {
   "codemirror_mode": {
    "name": "ipython",
    "version": 3
   },
   "file_extension": ".py",
   "mimetype": "text/x-python",
   "name": "python",
   "nbconvert_exporter": "python",
   "pygments_lexer": "ipython3",
   "version": "3.12.6"
  }
 },
 "nbformat": 4,
 "nbformat_minor": 2
}
