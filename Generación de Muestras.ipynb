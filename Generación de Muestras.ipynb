{
 "cells": [
  {
   "cell_type": "code",
   "execution_count": 1,
   "metadata": {},
   "outputs": [
    {
     "name": "stderr",
     "output_type": "stream",
     "text": [
      "<>:4: SyntaxWarning: invalid escape sequence '\\J'\n",
      "<>:4: SyntaxWarning: invalid escape sequence '\\J'\n",
      "C:\\Users\\Juampo\\AppData\\Local\\Temp\\ipykernel_14072\\682294474.py:4: SyntaxWarning: invalid escape sequence '\\J'\n",
      "  df_PurchasesFINAL12312016 = pd.read_csv('D:\\Juampo\\Documents\\S H\\PF\\BBDD\\PurchasesFINAL12312016.csv')\n"
     ]
    }
   ],
   "source": [
    "import numpy as np\n",
    "import pandas as pd\n",
    "\n",
    "df_PurchasesFINAL12312016 = pd.read_csv('D:\\Juampo\\Documents\\S H\\PF\\BBDD\\PurchasesFINAL12312016.csv')"
   ]
  },
  {
   "cell_type": "code",
   "execution_count": 3,
   "metadata": {},
   "outputs": [],
   "source": [
    "def extraer_muestra_por_mes(df, columna_fecha='PODate', n_filas_por_mes=30000):\n",
    "    \"\"\"\n",
    "    Extrae una muestra aleatoria de n_filas_por_mes de cada mes de un DataFrame.\n",
    "\n",
    "    Args:\n",
    "        df: DataFrame de entrada.\n",
    "        columna_fecha: Nombre de la columna que contiene las fechas.\n",
    "        n_filas_por_mes: Número de filas a seleccionar por mes.\n",
    "\n",
    "    Returns:\n",
    "        DataFrame con la muestra extraída.\n",
    "    \"\"\"\n",
    "\n",
    "    # Convertir la columna de fecha a formato datetime\n",
    "    df[columna_fecha] = pd.to_datetime(df[columna_fecha])\n",
    "\n",
    "    # Agrupar por mes y aplicar la función de muestreo\n",
    "    df_muestra = df.groupby(df[columna_fecha].dt.month).apply(lambda x: x.sample(min(len(x), n_filas_por_mes)))\n",
    "\n",
    "    return df_muestra"
   ]
  },
  {
   "cell_type": "code",
   "execution_count": 5,
   "metadata": {},
   "outputs": [],
   "source": [
    "df_muestra_PurchasesFINAL12312016 = extraer_muestra_por_mes(df_PurchasesFINAL12312016, columna_fecha='PODate', n_filas_por_mes=30000)\n",
    "df_muestra_PurchasesFINAL12312016.shape"
   ]
  },
  {
   "cell_type": "code",
   "execution_count": 7,
   "metadata": {},
   "outputs": [
    {
     "name": "stderr",
     "output_type": "stream",
     "text": [
      "<>:1: SyntaxWarning: invalid escape sequence '\\J'\n",
      "<>:1: SyntaxWarning: invalid escape sequence '\\J'\n",
      "C:\\Users\\Juampo\\AppData\\Local\\Temp\\ipykernel_14072\\3104260692.py:1: SyntaxWarning: invalid escape sequence '\\J'\n",
      "  df_muestra_PurchasesFINAL12312016.to_csv(\"D:\\Juampo\\Documents\\S H\\PF\\BBDD\\Muestras\\df_muestra_PurchasesFINAL12312016.csv\", index=False)\n"
     ]
    }
   ],
   "source": [
    "df_muestra_PurchasesFINAL12312016.to_csv(\"D:\\Juampo\\Documents\\S H\\PF\\BBDD\\Muestras\\df_muestra_PurchasesFINAL12312016.csv\", index=False)"
   ]
  },
  {
   "cell_type": "markdown",
   "metadata": {},
   "source": [
    "Sales"
   ]
  },
  {
   "cell_type": "code",
   "execution_count": 19,
   "metadata": {},
   "outputs": [
    {
     "name": "stderr",
     "output_type": "stream",
     "text": [
      "<>:1: SyntaxWarning: invalid escape sequence '\\J'\n",
      "<>:1: SyntaxWarning: invalid escape sequence '\\J'\n",
      "C:\\Users\\Juampo\\AppData\\Local\\Temp\\ipykernel_14072\\2381097960.py:1: SyntaxWarning: invalid escape sequence '\\J'\n",
      "  df_SalesFINAL12312016 = pd.read_csv('D:\\Juampo\\Documents\\S H\\PF\\BBDD\\SalesFINAL12312016.csv')\n"
     ]
    },
    {
     "data": {
      "text/plain": [
       "(1048575, 14)"
      ]
     },
     "execution_count": 19,
     "metadata": {},
     "output_type": "execute_result"
    }
   ],
   "source": [
    "df_SalesFINAL12312016 = pd.read_csv('D:\\Juampo\\Documents\\S H\\PF\\BBDD\\SalesFINAL12312016.csv')\n",
    "df_SalesFINAL12312016.shape"
   ]
  },
  {
   "cell_type": "code",
   "execution_count": 20,
   "metadata": {},
   "outputs": [
    {
     "data": {
      "text/plain": [
       "(360000, 16)"
      ]
     },
     "execution_count": 20,
     "metadata": {},
     "output_type": "execute_result"
    }
   ],
   "source": [
    "df_muestra_SalesFINAL12312016 = extraer_muestra_por_mes(df_PurchasesFINAL12312016, columna_fecha='PODate', n_filas_por_mes=30000)\n",
    "df_muestra_SalesFINAL12312016.shape"
   ]
  },
  {
   "cell_type": "code",
   "execution_count": 21,
   "metadata": {},
   "outputs": [
    {
     "name": "stderr",
     "output_type": "stream",
     "text": [
      "<>:1: SyntaxWarning: invalid escape sequence '\\J'\n",
      "<>:1: SyntaxWarning: invalid escape sequence '\\J'\n",
      "C:\\Users\\Juampo\\AppData\\Local\\Temp\\ipykernel_14072\\3033645457.py:1: SyntaxWarning: invalid escape sequence '\\J'\n",
      "  df_muestra_SalesFINAL12312016.to_csv(\"D:\\Juampo\\Documents\\S H\\PF\\BBDD\\Muestra\\df_muestra_SalesFINAL12312016.csv\", index=False)\n"
     ]
    }
   ],
   "source": [
    "df_muestra_SalesFINAL12312016.to_csv(\"D:\\Juampo\\Documents\\S H\\PF\\BBDD\\Muestra\\df_muestra_SalesFINAL12312016.csv\", index=False)\n"
   ]
  }
 ],
 "metadata": {
  "kernelspec": {
   "display_name": "Python 3",
   "language": "python",
   "name": "python3"
  },
  "language_info": {
   "codemirror_mode": {
    "name": "ipython",
    "version": 3
   },
   "file_extension": ".py",
   "mimetype": "text/x-python",
   "name": "python",
   "nbconvert_exporter": "python",
   "pygments_lexer": "ipython3",
   "version": "3.12.6"
  }
 },
 "nbformat": 4,
 "nbformat_minor": 2
}
